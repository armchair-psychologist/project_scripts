{
 "cells": [
  {
   "cell_type": "code",
   "execution_count": 1,
   "metadata": {
    "colab": {
     "base_uri": "https://localhost:8080/",
     "height": 359
    },
    "id": "mJYuGsKFeGUz",
    "outputId": "16727bbe-5a32-46fc-89e2-24cd7570a3ec"
   },
   "outputs": [
    {
     "data": {
      "text/html": [
       "<div>\n",
       "<style scoped>\n",
       "    .dataframe tbody tr th:only-of-type {\n",
       "        vertical-align: middle;\n",
       "    }\n",
       "\n",
       "    .dataframe tbody tr th {\n",
       "        vertical-align: top;\n",
       "    }\n",
       "\n",
       "    .dataframe thead th {\n",
       "        text-align: right;\n",
       "    }\n",
       "</style>\n",
       "<table border=\"1\" class=\"dataframe\">\n",
       "  <thead>\n",
       "    <tr style=\"text-align: right;\">\n",
       "      <th></th>\n",
       "      <th>type</th>\n",
       "      <th>posts</th>\n",
       "    </tr>\n",
       "  </thead>\n",
       "  <tbody>\n",
       "    <tr>\n",
       "      <th>0</th>\n",
       "      <td>INFJ</td>\n",
       "      <td>'http://www.youtube.com/watch?v=qsXHcwe3krw|||...</td>\n",
       "    </tr>\n",
       "    <tr>\n",
       "      <th>1</th>\n",
       "      <td>ENTP</td>\n",
       "      <td>'I'm finding the lack of me in these posts ver...</td>\n",
       "    </tr>\n",
       "    <tr>\n",
       "      <th>2</th>\n",
       "      <td>INTP</td>\n",
       "      <td>'Good one  _____   https://www.youtube.com/wat...</td>\n",
       "    </tr>\n",
       "    <tr>\n",
       "      <th>3</th>\n",
       "      <td>INTJ</td>\n",
       "      <td>'Dear INTP,   I enjoyed our conversation the o...</td>\n",
       "    </tr>\n",
       "    <tr>\n",
       "      <th>4</th>\n",
       "      <td>ENTJ</td>\n",
       "      <td>'You're fired.|||That's another silly misconce...</td>\n",
       "    </tr>\n",
       "    <tr>\n",
       "      <th>5</th>\n",
       "      <td>INTJ</td>\n",
       "      <td>'18/37 @.@|||Science  is not perfect. No scien...</td>\n",
       "    </tr>\n",
       "    <tr>\n",
       "      <th>6</th>\n",
       "      <td>INFJ</td>\n",
       "      <td>'No, I can't draw on my own nails (haha). Thos...</td>\n",
       "    </tr>\n",
       "    <tr>\n",
       "      <th>7</th>\n",
       "      <td>INTJ</td>\n",
       "      <td>'I tend to build up a collection of things on ...</td>\n",
       "    </tr>\n",
       "    <tr>\n",
       "      <th>8</th>\n",
       "      <td>INFJ</td>\n",
       "      <td>I'm not sure, that's a good question. The dist...</td>\n",
       "    </tr>\n",
       "    <tr>\n",
       "      <th>9</th>\n",
       "      <td>INTP</td>\n",
       "      <td>'https://www.youtube.com/watch?v=w8-egj0y8Qs||...</td>\n",
       "    </tr>\n",
       "  </tbody>\n",
       "</table>\n",
       "</div>"
      ],
      "text/plain": [
       "   type                                              posts\n",
       "0  INFJ  'http://www.youtube.com/watch?v=qsXHcwe3krw|||...\n",
       "1  ENTP  'I'm finding the lack of me in these posts ver...\n",
       "2  INTP  'Good one  _____   https://www.youtube.com/wat...\n",
       "3  INTJ  'Dear INTP,   I enjoyed our conversation the o...\n",
       "4  ENTJ  'You're fired.|||That's another silly misconce...\n",
       "5  INTJ  '18/37 @.@|||Science  is not perfect. No scien...\n",
       "6  INFJ  'No, I can't draw on my own nails (haha). Thos...\n",
       "7  INTJ  'I tend to build up a collection of things on ...\n",
       "8  INFJ  I'm not sure, that's a good question. The dist...\n",
       "9  INTP  'https://www.youtube.com/watch?v=w8-egj0y8Qs||..."
      ]
     },
     "execution_count": 1,
     "metadata": {},
     "output_type": "execute_result"
    }
   ],
   "source": [
    "import numpy as np\n",
    "import pandas as pd\n",
    "from sklearn.feature_extraction.text import CountVectorizer\n",
    "import time\n",
    "import matplotlib.pyplot as plt\n",
    "from sklearn.metrics import confusion_matrix\n",
    "import os\n",
    "import plotly.express as px\n",
    "import plotly\n",
    "import seaborn as sns\n",
    "import csv\n",
    "\n",
    "filePath = \"../data/mbti_1.csv\"\n",
    "\n",
    "df = pd.read_csv(filePath,header=0)\n",
    "df.head(10)"
   ]
  },
  {
   "cell_type": "code",
   "execution_count": 34,
   "metadata": {
    "colab": {
     "base_uri": "https://localhost:8080/",
     "height": 655
    },
    "id": "oxrOhLfzj0G7",
    "outputId": "038e5e7a-03ae-4cb0-8c35-25d0050fdfac"
   },
   "outputs": [
    {
     "data": {
      "text/plain": [
       "<seaborn.axisgrid.FacetGrid at 0x7fc5fe6c9b70>"
      ]
     },
     "execution_count": 34,
     "metadata": {},
     "output_type": "execute_result"
    },
    {
     "data": {
      "text/plain": [
       "<Figure size 3600x1440 with 0 Axes>"
      ]
     },
     "metadata": {},
     "output_type": "display_data"
    },
    {
     "data": {
      "image/png": "[encoded data removed]",
      "text/plain": [
       "<Figure size 842.4x595.44 with 1 Axes>"
      ]
     },
     "metadata": {
      "needs_background": "light"
     },
     "output_type": "display_data"
    }
   ],
   "source": [
    "fig = plt.gcf()\n",
    "fig.set_size_inches(50, 20)\n",
    "sns.catplot(x=\"type\", kind=\"count\", data=df,height=8.27, aspect=11.7/8.27)"
   ]
  },
  {
   "cell_type": "code",
   "execution_count": 2,
   "metadata": {
    "colab": {
     "base_uri": "https://localhost:8080/",
     "height": 204
    },
    "id": "7dzztkktkFPF",
    "outputId": "f1660e81-42c8-40a8-a19d-21175cc2cb13"
   },
   "outputs": [
    {
     "data": {
      "text/html": [
       "<div>\n",
       "<style scoped>\n",
       "    .dataframe tbody tr th:only-of-type {\n",
       "        vertical-align: middle;\n",
       "    }\n",
       "\n",
       "    .dataframe tbody tr th {\n",
       "        vertical-align: top;\n",
       "    }\n",
       "\n",
       "    .dataframe thead th {\n",
       "        text-align: right;\n",
       "    }\n",
       "</style>\n",
       "<table border=\"1\" class=\"dataframe\">\n",
       "  <thead>\n",
       "    <tr style=\"text-align: right;\">\n",
       "      <th></th>\n",
       "      <th>type</th>\n",
       "      <th>posts</th>\n",
       "      <th>Personality-1</th>\n",
       "      <th>Personality-2</th>\n",
       "      <th>Personality-3</th>\n",
       "      <th>Personality-4</th>\n",
       "    </tr>\n",
       "  </thead>\n",
       "  <tbody>\n",
       "    <tr>\n",
       "      <th>0</th>\n",
       "      <td>INFJ</td>\n",
       "      <td>'http://www.youtube.com/watch?v=qsXHcwe3krw|||...</td>\n",
       "      <td>I</td>\n",
       "      <td>N</td>\n",
       "      <td>F</td>\n",
       "      <td>J</td>\n",
       "    </tr>\n",
       "    <tr>\n",
       "      <th>1</th>\n",
       "      <td>ENTP</td>\n",
       "      <td>'I'm finding the lack of me in these posts ver...</td>\n",
       "      <td>E</td>\n",
       "      <td>N</td>\n",
       "      <td>T</td>\n",
       "      <td>P</td>\n",
       "    </tr>\n",
       "    <tr>\n",
       "      <th>2</th>\n",
       "      <td>INTP</td>\n",
       "      <td>'Good one  _____   https://www.youtube.com/wat...</td>\n",
       "      <td>I</td>\n",
       "      <td>N</td>\n",
       "      <td>T</td>\n",
       "      <td>P</td>\n",
       "    </tr>\n",
       "    <tr>\n",
       "      <th>3</th>\n",
       "      <td>INTJ</td>\n",
       "      <td>'Dear INTP,   I enjoyed our conversation the o...</td>\n",
       "      <td>I</td>\n",
       "      <td>N</td>\n",
       "      <td>T</td>\n",
       "      <td>J</td>\n",
       "    </tr>\n",
       "    <tr>\n",
       "      <th>4</th>\n",
       "      <td>ENTJ</td>\n",
       "      <td>'You're fired.|||That's another silly misconce...</td>\n",
       "      <td>E</td>\n",
       "      <td>N</td>\n",
       "      <td>T</td>\n",
       "      <td>J</td>\n",
       "    </tr>\n",
       "  </tbody>\n",
       "</table>\n",
       "</div>"
      ],
      "text/plain": [
       "   type                                              posts Personality-1  \\\n",
       "0  INFJ  'http://www.youtube.com/watch?v=qsXHcwe3krw|||...             I   \n",
       "1  ENTP  'I'm finding the lack of me in these posts ver...             E   \n",
       "2  INTP  'Good one  _____   https://www.youtube.com/wat...             I   \n",
       "3  INTJ  'Dear INTP,   I enjoyed our conversation the o...             I   \n",
       "4  ENTJ  'You're fired.|||That's another silly misconce...             E   \n",
       "\n",
       "  Personality-2 Personality-3 Personality-4  \n",
       "0             N             F             J  \n",
       "1             N             T             P  \n",
       "2             N             T             P  \n",
       "3             N             T             J  \n",
       "4             N             T             J  "
      ]
     },
     "execution_count": 2,
     "metadata": {},
     "output_type": "execute_result"
    }
   ],
   "source": [
    "df[\"type\"] = df[\"type\"].str.strip()\n",
    "# Seperate the the label into four different parts\n",
    "target_multi_label = df[\"type\"].str.split(r\".\",expand=True)\n",
    "target_multi_label = df[\"type\"].apply(lambda x:pd.Series(list(x)))\n",
    "\n",
    "target_multi_label.columns = [\"Personality-1\",\"Personality-2\",\"Personality-3\",\"Personality-4\"]\n",
    "\n",
    "df = pd.concat([df,target_multi_label] , axis=1)\n",
    "\n",
    "df.head()"
   ]
  },
  {
   "cell_type": "code",
   "execution_count": null,
   "metadata": {
    "colab": {
     "base_uri": "https://localhost:8080/",
     "height": 1000
    },
    "id": "RLTe2qMNkLzT",
    "outputId": "d7157258-b753-4b56-bcbc-b74d9f5090ad"
   },
   "outputs": [
    {
     "data": {
      "text/plain": [
       "<seaborn.axisgrid.FacetGrid at 0x7f9001bd8d10>"
      ]
     },
     "execution_count": 5,
     "metadata": {
      "tags": []
     },
     "output_type": "execute_result"
    },
    {
     "data": {
      "text/plain": [
       "<Figure size 3600x1440 with 0 Axes>"
      ]
     },
     "metadata": {
      "tags": []
     },
     "output_type": "display_data"
    },
    {
     "data": {
      "image/png": "[encoded data removed]",
      "text/plain": [
       "<Figure size 288x360 with 1 Axes>"
      ]
     },
     "metadata": {
      "needs_background": "light",
      "tags": []
     },
     "output_type": "display_data"
    },
    {
     "data": {
      "image/png": "[encoded data removed]",
      "text/plain": [
       "<Figure size 288x360 with 1 Axes>"
      ]
     },
     "metadata": {
      "needs_background": "light",
      "tags": []
     },
     "output_type": "display_data"
    },
    {
     "data": {
      "image/png": "[encoded data removed]",
      "text/plain": [
       "<Figure size 288x360 with 1 Axes>"
      ]
     },
     "metadata": {
      "needs_background": "light",
      "tags": []
     },
     "output_type": "display_data"
    },
    {
     "data": {
      "image/png": "[encoded data removed]",
      "text/plain": [
       "<Figure size 288x360 with 1 Axes>"
      ]
     },
     "metadata": {
      "needs_background": "light",
      "tags": []
     },
     "output_type": "display_data"
    }
   ],
   "source": [
    "fig = plt.gcf()\n",
    "fig.set_size_inches(50, 20)\n",
    "sns.catplot(x=\"Personality-1\", kind=\"count\", data=df,height=5, aspect=4/5)\n",
    "sns.catplot(x=\"Personality-2\", kind=\"count\", data=df,height=5, aspect=4/5)\n",
    "sns.catplot(x=\"Personality-3\", kind=\"count\", data=df,height=5, aspect=4/5)\n",
    "sns.catplot(x=\"Personality-4\", kind=\"count\", data=df,height=5, aspect=4/5)"
   ]
  },
  {
   "cell_type": "code",
   "execution_count": 4,
   "metadata": {
    "colab": {
     "base_uri": "https://localhost:8080/"
    },
    "id": "48CoWsEQkOXv",
    "outputId": "b6e3db30-4fc3-4dea-f86a-223454dd3e29"
   },
   "outputs": [
    {
     "name": "stdout",
     "output_type": "stream",
     "text": [
      "Requirement already satisfied: Unidecode in /home/ivan/Desktop/cmput_466/project_scripts/lib/python3.6/site-packages\n",
      "Requirement already satisfied: contractions in /home/ivan/Desktop/cmput_466/project_scripts/lib/python3.6/site-packages\n",
      "Requirement already satisfied: textsearch>=0.0.21 in /home/ivan/Desktop/cmput_466/project_scripts/lib/python3.6/site-packages (from contractions)\n",
      "Requirement already satisfied: anyascii in /home/ivan/Desktop/cmput_466/project_scripts/lib/python3.6/site-packages (from textsearch>=0.0.21->contractions)\n",
      "Requirement already satisfied: pyahocorasick in /home/ivan/Desktop/cmput_466/project_scripts/lib/python3.6/site-packages (from textsearch>=0.0.21->contractions)\n"
     ]
    },
    {
     "name": "stderr",
     "output_type": "stream",
     "text": [
      "[nltk_data] Downloading package wordnet to /home/ivan/nltk_data...\n",
      "[nltk_data]   Package wordnet is already up-to-date!\n"
     ]
    }
   ],
   "source": [
    "#version1 of text pre-processing\n",
    "\n",
    "#source:https://towardsdatascience.com/nlp-text-preprocessing-a-practical-guide-and-template-d80874676e79\n",
    "!pip install Unidecode\n",
    "!pip install contractions\n",
    "import nltk\n",
    "nltk.download('wordnet')\n",
    "\n",
    "from bs4 import BeautifulSoup\n",
    "import unidecode \n",
    "#from word2number import w2n\n",
    "import contractions\n",
    "from nltk.stem import WordNetLemmatizer \n",
    "import re\n",
    "\n",
    "def preprocessing_v1(text):\n",
    "    #remove html information\n",
    "    soup = BeautifulSoup(text, \"html.parser\")\n",
    "    processed = soup.get_text(separator=\" \")\n",
    "    \n",
    "    #remove http// \n",
    "    processed = re.sub(r\"http\\S+\", \"\", processed)\n",
    "\n",
    "    #remove ||| seperate\n",
    "    processed = re.sub(r'\\|\\|\\|', r' ', processed)\n",
    "\n",
    "    #lower case\n",
    "    processed = processed.lower()\n",
    "\n",
    "    #expand shortened words, e.g. don't to do not\n",
    "    processed = contractions.fix(processed)\n",
    "\n",
    "    #remove accented char\n",
    "    processed = unidecode.unidecode(processed)\n",
    "\n",
    "    #remove white space\n",
    "    #processed = processed.strip()\n",
    "    #processed = \" \".join(processed.split())\n",
    "\n",
    "    # Lemmatizing \n",
    "    lemmatizer = WordNetLemmatizer() \n",
    "    processed=lemmatizer.lemmatize(processed)\n",
    "\n",
    "\n",
    "    return processed"
   ]
  },
  {
   "cell_type": "code",
   "execution_count": 3,
   "metadata": {
    "colab": {
     "base_uri": "https://localhost:8080/",
     "height": 204
    },
    "id": "Mr6aWGq7kWzg",
    "outputId": "cc0d7f10-2cfc-46af-d851-1069844dc135"
   },
   "outputs": [
    {
     "ename": "NameError",
     "evalue": "name 'preprocessing_v1' is not defined",
     "output_type": "error",
     "traceback": [
      "\u001b[0;31m---------------------------------------------------------------------------\u001b[0m",
      "\u001b[0;31mNameError\u001b[0m                                 Traceback (most recent call last)",
      "\u001b[0;32m<ipython-input-3-8cc5d6cf2aba>\u001b[0m in \u001b[0;36m<module>\u001b[0;34m\u001b[0m\n\u001b[0;32m----> 1\u001b[0;31m \u001b[0mdf\u001b[0m\u001b[0;34m[\u001b[0m\u001b[0;34m'posts'\u001b[0m\u001b[0;34m]\u001b[0m \u001b[0;34m=\u001b[0m \u001b[0mdf\u001b[0m\u001b[0;34m[\u001b[0m\u001b[0;34m'posts'\u001b[0m\u001b[0;34m]\u001b[0m\u001b[0;34m.\u001b[0m\u001b[0mapply\u001b[0m\u001b[0;34m(\u001b[0m\u001b[0mpreprocessing_v1\u001b[0m\u001b[0;34m)\u001b[0m\u001b[0;34m\u001b[0m\u001b[0;34m\u001b[0m\u001b[0m\n\u001b[0m\u001b[1;32m      2\u001b[0m \u001b[0mposts\u001b[0m \u001b[0;34m=\u001b[0m \u001b[0mdf\u001b[0m\u001b[0;34m[\u001b[0m\u001b[0;34m'posts'\u001b[0m\u001b[0;34m]\u001b[0m\u001b[0;34m\u001b[0m\u001b[0;34m\u001b[0m\u001b[0m\n\u001b[1;32m      3\u001b[0m \u001b[0mdf\u001b[0m\u001b[0;34m.\u001b[0m\u001b[0mhead\u001b[0m\u001b[0;34m(\u001b[0m\u001b[0;34m)\u001b[0m\u001b[0;34m\u001b[0m\u001b[0;34m\u001b[0m\u001b[0m\n",
      "\u001b[0;31mNameError\u001b[0m: name 'preprocessing_v1' is not defined"
     ]
    }
   ],
   "source": [
    "df['posts'] = df['posts'].apply(preprocessing_v1)\n",
    "posts = df['posts']\n",
    "df.head()"
   ]
  },
  {
   "cell_type": "code",
   "execution_count": 7,
   "metadata": {
    "colab": {
     "base_uri": "https://localhost:8080/"
    },
    "id": "UaDdROHiS2YA",
    "outputId": "7e7b8bc2-874b-40f9-9419-7068dc68b2bd"
   },
   "outputs": [
    {
     "name": "stdout",
     "output_type": "stream",
     "text": [
      "[0 1 0 ... 0 0 0]\n"
     ]
    }
   ],
   "source": [
    "# Labels for introversion vs extraversion\n",
    "first_dimension = df['Personality-1']\n",
    "# The model can't predict a float from a char, so we replace the I with 0 and E with 1\n",
    "# I couldn't do this in place for some reason so i made a new array. This runtime is pretty shit cuz of append\n",
    "\n",
    "# Make this np.zeros_lke first dim to fix runtime (?)\n",
    "first_dim = []\n",
    "\n",
    "for idx, letter in enumerate(first_dimension):\n",
    "    if letter is 'I':\n",
    "        first_dim.append(0)\n",
    "    else:\n",
    "        first_dim.append(1)\n",
    "\n",
    "first_dim = np.array(first_dim)\n",
    "print(first_dim)"
   ]
  },
  {
   "cell_type": "code",
   "execution_count": 24,
   "metadata": {
    "colab": {
     "base_uri": "https://localhost:8080/"
    },
    "id": "HmeDcYQsH8Jd",
    "outputId": "4b3a8878-f7b5-4b10-c2bc-b3070a11dc3d"
   },
   "outputs": [
    {
     "name": "stdout",
     "output_type": "stream",
     "text": [
      "[4 2 3 ... 3 5 5]\n"
     ]
    }
   ],
   "source": [
    "def convertLabels(labelDf):\n",
    "    '''\n",
    "    this will turn the string labels to floats\n",
    "    '''\n",
    "    personality_dict = {\"ENTJ\" : 0, \"INTJ\" : 1, \"ENTP\" : 2, \"INTP\" : 3, \"INFJ\" : 4, \"INFP\" : 5, \"ENFJ\" : 6 , \n",
    "                    \"ENFP\" : 7, \"ESTP\" : 8, \"ESTJ\" : 9, \"ISTP\" : 10, \"ISTJ\" : 11, \"ISFJ\" : 12, \"ISFP\" : 13, \n",
    "                    \"ESFJ\" : 14, \"ESFP\" : 15}\n",
    "    type_labels = []\n",
    "    # Go through the array and turn the personality type into its corresponding number\n",
    "    for idx, personality in enumerate(labelDf):\n",
    "        type_labels.append(personality_dict[personality])\n",
    "\n",
    "    return np.array(type_labels)\n",
    "full_type_labels = df['type']\n",
    "# Enumerating the personality types so that our model can work with numbers\n",
    "\n",
    "\n",
    "type_labels = convertLabels(full_type_labels)\n",
    "\n",
    "print(type_labels)\n",
    "# print(full_type_labels)\n",
    "\n",
    "    "
   ]
  },
  {
   "cell_type": "code",
   "execution_count": 3,
   "metadata": {
    "id": "3ksc7-r5nDNh"
   },
   "outputs": [],
   "source": [
    "'''\n",
    "This will load the csv\n",
    "'''\n",
    "class CsvToDf:\n",
    "    '''\n",
    "    This class will simply turn the given data to a dataframe\n",
    "    '''\n",
    "    def __init__(self,filename,batchSize=None,cols=None):\n",
    "        #batchSize is the size of data to be read incrementally. This is for data that is to big to fit\n",
    "        #into memory\n",
    "        self._cols = cols\n",
    "        self._header = None\n",
    "        self._filename = filename\n",
    "        self._curIndex = 0     #this will be the current index that we are in the csv\n",
    "        self._isRead = False\n",
    "        self._df = None\n",
    "        self._storeHeader()\n",
    "        self._batchSize = batchSize\n",
    "    def _storeHeader(self):\n",
    "        with open(self._filename) as csvFile:\n",
    "            f = csv.reader(csvFile)\n",
    "            self._header = next(f)\n",
    "    def getWholeCsv(self):\n",
    "        if not(self._isRead):\n",
    "            if self._cols != None:\n",
    "                self._df = pd.read_csv(self._filename,usecols=self._cols)\n",
    "            else:\n",
    "                self._df = pd.read_csv(self._filename)\n",
    "            self._isRead = True\n",
    "        return self._df\n",
    "    def getHeader(self):\n",
    "        return self._header\n",
    "    def _checkIfRead(self):\n",
    "        if not(self._isRead):\n",
    "            if self._cols != None:\n",
    "                self._df = pd.read_csv(self._filename,iterator=True,chunksize=self._batchSize,usecols=self._cols)\n",
    "            else:\n",
    "                self._df = pd.read_csv(self._filename,iterator=True,chunksize=self._batchSize)\n",
    "            self._isRead = True\n",
    "            return False\n",
    "        return True\n",
    "    def getNextBatchCsv(self):\n",
    "        self._checkIfRead()\n",
    "        return next(self._df,None)"
   ]
  },
  {
   "cell_type": "code",
   "execution_count": 44,
   "metadata": {},
   "outputs": [],
   "source": [
    "#================ counting the smallest number of data\n",
    "TEST = \"test\"\n",
    "TRAIN = \"train\"\n",
    "class Combiner:\n",
    "    '''\n",
    "    - Given multiple CsvToDf that correspond to a dataset combine them to a single dataframe\n",
    "    - return this dataframe\n",
    "    - need to return a dataframe that only has type and post as its columns\n",
    "    '''\n",
    "    def __init__(self,dataList,columnList):\n",
    "        '''\n",
    "        dataList is the CsvToDf that contains all the data and columnList is a list that contains the necessary\n",
    "        column names for a corresponding entry in dataList.\n",
    "        '''\n",
    "        assert len(dataList) == len(columnList),\"incorrect sizes for data\"\n",
    "        self._dataList = dataList\n",
    "        self._data = [None for i in range(len(dataList))]\n",
    "        self._necessaryCol = columnList\n",
    "        self._typeCol = \"type\"\n",
    "        self._postCol = \"posts\"\n",
    "        self._incrementData()\n",
    "    def getNextBatch(self):\n",
    "        '''\n",
    "        return a dataframe that contains all the aggregated data\n",
    "        '''\n",
    "        outData = pd.DataFrame(columns=[self._typeCol,self._postCol])\n",
    "        for data,colList in zip(self._data,self._necessaryCol):\n",
    "            if isinstance(data,pd.DataFrame):\n",
    "                renamedData = data[[colList[0],colList[1]]]\n",
    "                renamedData.columns = [self._typeCol,self._postCol]\n",
    "                \n",
    "                outData = outData.append(renamedData,ignore_index=True)\n",
    "        self._incrementData()\n",
    "        if (len(outData.index)) == 0:\n",
    "            return None\n",
    "        else:\n",
    "            return outData\n",
    "    def _incrementData(self):\n",
    "        for idx,i in enumerate(self._dataList):\n",
    "            self._data[idx] = i.getNextBatchCsv()\n",
    "class Balancer:\n",
    "    '''\n",
    "    - Balance the count\n",
    "    - Decide what the training and test dat will be\n",
    "    - Needs to output three data frames the train the test and the remainder\n",
    "    - make the remainder the training set\n",
    "    '''\n",
    "    def __init__(self,combiner,trainFreq,testFreq):\n",
    "        #personSize is minimum size of the number of people in a single personality group\n",
    "        self._combiner = combiner\n",
    "        self._typeCol = \"type\"\n",
    "        self._postCol = \"posts\"\n",
    "        self._personality_count = {\"ENTJ\" : {TRAIN:0,TEST:0}, \"INTJ\" : {TRAIN:0,TEST:0}, \"ENTP\" : {TRAIN:0,TEST:0}, \"INTP\" : {TRAIN:0,TEST:0}, \"INFJ\" : {TRAIN:0,TEST:0}, \"INFP\" : {TRAIN:0,TEST:0}, \"ENFJ\" : {TRAIN:0,TEST:0} , \n",
    "                    \"ENFP\" : {TRAIN:0,TEST:0}, \"ESTP\" : {TRAIN:0,TEST:0}, \"ESTJ\" : {TRAIN:0,TEST:0}, \"ISTP\" : {TRAIN:0,TEST:0}, \"ISTJ\" : {TRAIN:0,TEST:0}, \"ISFJ\" : {TRAIN:0,TEST:0}, \"ISFP\" : {TRAIN:0,TEST:0}, \n",
    "                    \"ESFJ\" : {TRAIN:0,TEST:0}, \"ESFP\" : {TRAIN:0,TEST:0}}\n",
    "        self._trainFreq = trainFreq\n",
    "        self._testFreq = testFreq\n",
    "        self._training = []\n",
    "        self._testing = []\n",
    "    def createDataSets(self):\n",
    "        self._training = []\n",
    "        self._testing = []\n",
    "        batch = self._combiner.getNextBatch()\n",
    "        while (not(self._isUniform(freq)) or len(self._testing) < minTest) and isinstance(batch,pd.DataFrame):\n",
    "            for idx,row in batch.iterrows():\n",
    "                if isinstance(row[self._typeCol],str):\n",
    "                    personality = row[self._typeCol].upper()\n",
    "                    if personality in self._personality_count:\n",
    "                        if self._personality_count[personality] < freq:\n",
    "                            self._training.append({self._typeCol:personality,self._postCol:row[self._postCol]})\n",
    "                            self._personality_count[personality] += 1\n",
    "                        elif len(self._testing) < maxTest:\n",
    "                            self._testing.append({self._typeCol:personality,self._postCol:row[self._postCol]})\n",
    "            batch = self._combiner.getNextBatch()\n",
    "        return True\n",
    "    def getTrainSet(self):\n",
    "        return pd.DataFrame(self._training)\n",
    "    def getTestSet(self):\n",
    "        return pd.DataFrame(self._testing)\n",
    "    def _trainIsUniform(self):\n",
    "        #checks if personality count has equal distribution\n",
    "        for key in self._personality_count:\n",
    "            if self._personality_count[key] < freq:\n",
    "                return False\n",
    "        return True\n",
    "    def _testIsUniform(self):\n",
    "        #checks if personality count has equal distribution\n",
    "        for key in self._personality_count:\n",
    "            if self._personality_count[key] < freq:\n",
    "                return False\n",
    "        return True\n",
    "#======================================================"
   ]
  },
  {
   "cell_type": "code",
   "execution_count": 45,
   "metadata": {},
   "outputs": [
    {
     "data": {
      "text/plain": [
       "True"
      ]
     },
     "execution_count": 45,
     "metadata": {},
     "output_type": "execute_result"
    }
   ],
   "source": [
    "file1 = CsvToDf(\"../data/mbti_1.csv\",batchSize=400)\n",
    "file2 = CsvToDf(\"../data/mbti9k_comments.csv\",batchSize=100) \n",
    "file3 = CsvToDf(\"../data/typed_posts.csv\",batchSize=100)\n",
    "file4 = CsvToDf(\"../data/typed_comments.csv\",batchSize=100)\n",
    "\n",
    "combine = Combiner([file1,file2,file3,file4],[[\"type\",\"posts\"],[\"type\",\"comment\"],[\"type\",\"title\"],[\"type\",\"comment\"]])\n",
    "balancer = Balancer(combine)\n",
    "balancer.createDataSets(100,600,1000)\n",
    "\n",
    "\n"
   ]
  },
  {
   "cell_type": "code",
   "execution_count": 14,
   "metadata": {},
   "outputs": [
    {
     "name": "stdout",
     "output_type": "stream",
     "text": [
      "{'ENTJ': 100, 'INTJ': 100, 'ENTP': 100, 'INTP': 100, 'INFJ': 100, 'INFP': 100, 'ENFJ': 100, 'ENFP': 100, 'ESTP': 100, 'ESTJ': 100, 'ISTP': 100, 'ISTJ': 100, 'ISFJ': 100, 'ISFP': 100, 'ESFJ': 100, 'ESFP': 100}\n"
     ]
    }
   ],
   "source": [
    "res = balancer.getTrainSet()\n",
    "personality_dict = {\"ENTJ\" : 0, \"INTJ\" : 0, \"ENTP\" : 0, \"INTP\" : 0, \"INFJ\" : 0, \"INFP\" : 0, \"ENFJ\" : 0, \n",
    "                    \"ENFP\" : 0, \"ESTP\" : 0, \"ESTJ\" : 0, \"ISTP\" : 0, \"ISTJ\" : 0, \"ISFJ\" : 0, \"ISFP\" : 0, \n",
    "                    \"ESFJ\" : 0, \"ESFP\" : 0}\n",
    "for idx,row in res.iterrows():\n",
    "    personality_dict[row[\"type\"]] += 1\n",
    "print(personality_dict)"
   ]
  },
  {
   "cell_type": "code",
   "execution_count": null,
   "metadata": {},
   "outputs": [
    {
     "name": "stdout",
     "output_type": "stream",
     "text": [
      "{'ENTJ': 231, 'INTJ': 1091, 'ENTP': 685, 'INTP': 1304, 'INFJ': 1470, 'INFP': 1832, 'ENFJ': 190, 'ENFP': 675, 'ESTP': 89, 'ESTJ': 39, 'ISTP': 337, 'ISTJ': 205, 'ISFJ': 166, 'ISFP': 271, 'ESFJ': 42, 'ESFP': 48}\n",
      "{'ENTJ': 358, 'INTJ': 1837, 'ENTP': 624, 'INTP': 2313, 'INFJ': 1023, 'INFP': 1070, 'ENFJ': 206, 'ENFP': 605, 'ESTP': 88, 'ESTJ': 53, 'ISTP': 445, 'ISTJ': 236, 'ISFJ': 134, 'ISFP': 161, 'ESFJ': 34, 'ESFP': 65}\n",
      "{'ENTJ': 13886, 'INTJ': 79680, 'ENTP': 29330, 'INTP': 102763, 'INFJ': 31243, 'INFP': 43876, 'ENFJ': 4460, 'ENFP': 22744, 'ESTP': 3808, 'ESTJ': 1354, 'ISTP': 11679, 'ISTJ': 11470, 'ISFJ': 4036, 'ISFP': 3773, 'ESFJ': 400, 'ESFP': 1583}\n"
     ]
    }
   ],
   "source": [
    "def counter(ctd):\n",
    "    personality_dict = {\"ENTJ\" : 0, \"INTJ\" : 0, \"ENTP\" : 0, \"INTP\" : 0, \"INFJ\" : 0, \"INFP\" : 0, \"ENFJ\" : 0, \n",
    "                    \"ENFP\" : 0, \"ESTP\" : 0, \"ESTJ\" : 0, \"ISTP\" : 0, \"ISTJ\" : 0, \"ISFJ\" : 0, \"ISFP\" : 0, \n",
    "                    \"ESFJ\" : 0, \"ESFP\" : 0}\n",
    "    curCtd = ctd.getNextBatchCsv()\n",
    "    while isinstance(curCtd,pd.DataFrame):\n",
    "        for idx,row in curCtd.iterrows():\n",
    "            if isinstance(row[\"type\"],str):\n",
    "                personality = row[\"type\"].upper()\n",
    "                if personality in personality_dict:\n",
    "                    personality_dict[personality] += 1\n",
    "        curCtd = ctd.getNextBatchCsv()\n",
    "    return personality_dict\n",
    "print(counter(file1))\n",
    "print(counter(file2))\n",
    "print(counter(file3))\n",
    "print(counter(file4))"
   ]
  },
  {
   "cell_type": "code",
   "execution_count": null,
   "metadata": {},
   "outputs": [],
   "source": [
    "def counterDf(df):\n",
    "    personality_dict = {\"ENTJ\" : 0, \"INTJ\" : 0, \"ENTP\" : 0, \"INTP\" : 0, \"INFJ\" : 0, \"INFP\" : 0, \"ENFJ\" : 0, \n",
    "                    \"ENFP\" : 0, \"ESTP\" : 0, \"ESTJ\" : 0, \"ISTP\" : 0, \"ISTJ\" : 0, \"ISFJ\" : 0, \"ISFP\" : 0, \n",
    "                    \"ESFJ\" : 0, \"ESFP\" : 0}\n",
    "\n",
    "    for idx,row in df.iterrows():\n",
    "        if isinstance(row[\"type\"],str):\n",
    "            personality = row[\"type\"].upper()\n",
    "            if personality in personality_dict:\n",
    "                personality_dict[personality] += 1\n",
    "    return personality_dict\n",
    "counterDf(balancer.getTrainSet())"
   ]
  },
  {
   "cell_type": "code",
   "execution_count": 46,
   "metadata": {},
   "outputs": [
    {
     "name": "stdout",
     "output_type": "stream",
     "text": [
      "[5 5 5 5 5 5 5 5 5 1 1 1 1 1 1 1 3 3 3 3 3 3 3 3 3 3 3 3 3 3 3 3 3 3 3 3 3\n",
      " 3 3 3 3 3 3 3 3 3 3 3 3 3 3 3 3 3 3 3 3 3 3 3 3 3 3 3 3 3 3 3 3 3 3 3 3 3\n",
      " 3 3 3 3 3 3 3 3 3 3 3 2 2 2 2 2 2 2 2 2 2 2 2 2 2 2 2 2 2 2 2 2 2 1 1 1 1\n",
      " 1 1 1 1 1 1 1 1 1 1 1 1 5 3 5 5 3 5 5 3 2 3 1 5 5 5 5 3 5 2 1 3 1 2 5 5 3\n",
      " 5 1 2 3 1 1 1 1 5 5 2 5 5 5 1 3 1 3 5 3 5 3 3 5 2 1 1 2 1 5 3 5 3 1 1 1 3\n",
      " 1 1 5 5 3 3 3 5 2 5 5 5 5 1 3 5 2 2 1 5 5 1 1 3 1 5 2 5 3 5 4 4 2 4 3 1 5\n",
      " 5 4 4 1 3 2 2 1 5 5 5 4 5 5 1 4 5 3 5 1 5 4 5 3 3 5 4 2 3 5 4 1 4 4 5 5 4\n",
      " 3 5 1 2 2 5 1 5 1 1 2 5 5 3 4 3 5 4 1 2 4 3 3 4 5 3 2 5 5 3 3 5 5 2 5 4 2\n",
      " 5 5 1 5 4 5 4 4 5 1 2 2 5 3 5 5 2 4 1 2 3 5 5 4 1 1 5 4 4 1 1 3 4 4 5 4 1\n",
      " 3 4 5 1 1 3 3 4 3 2 1 5 5 4 3 3 4 5 3 4 1 4 4 4 5 4 4 3 5 5 5 3 5 2 5 1 3\n",
      " 1 5 5 3 4 3 1 4 2 5 1 5 1 3 2 1 4 3 3 3 4 1 3 3 3 3 3 1 2 5 2 5 2 2 5 4 1\n",
      " 3 1 4 1 5 1 3 3 2 4 1 5 3 1 1 5 3 1 5 1 1 3 3 3 1 1 1 1 1 3 1 1 3 3 4 1 1\n",
      " 3 3 1 1 5 3 4 3 5 1 1 5 3 2 1 1 3 3 3 3 3 3 3 3 3 3 3 3 3 3 3 3 3 3 3 3 3\n",
      " 3 3 3 3 3 3 3 3 3 3 3 3 3 3 3 3 3 3 3 3 3 3 3 3 3 3 3 3 3 3 3 3 3 3 3 3 3\n",
      " 3 3 3 3 3 3 3 3 3 3 3 3 3 3 3 3 3 3 3 3 3 3 3 3 3 3 3 3 3 3 3 3 3 3 3 3 3\n",
      " 3 3 3 3 3 1 1 1 1 1 1 1 1 1 1 1 1 1 1 1 1 1 1 1 1 1 1 1 1 1 1 1 1 1 1 1 1\n",
      " 1 1 1 1 1 1 1 1 1 1 1 1 1 1 1 1 1 1 1 1 1 1 1 1 1 1 1 1 1 1 1 1 1 1 1 1 1\n",
      " 1 1 1 1 1 1 1 1 1 1 1 1 1 1 1 1 1 1 1 1 1 1 1 1 1 1 1 1 1 1 1 3 3 4 4 4 3\n",
      " 2 4 5 1 2 5 4 3 4 1 4 4 3 2 5 3 3 5 1 5 5 2 1 3 3 3 3 5 3 3 1 1 1 1 5 3 5\n",
      " 4 3 5 5 4 1 3 4 3 1 3 5 5 5 2 5 1 5 1 4 5 1 5 3 1 5 3 5 3 4 3 4 5 1 4 3 3\n",
      " 3 1 5 4 3 2 5 5 4 5 5 5 1 5 5 5 5 2 4 5 5 4 1 4 5 5 2 4 5 5 3 1 5 4 1 5 4\n",
      " 3 5 1 5 5 5 1 4 4 4 3 5 5 5 5 3 5 3 5 3 1 1 2 2 5 2 3 2 5 2 4 3 1 5 2 5 1\n",
      " 4 1 5 1 1 4 4 5 1 5 5 5 5 1 4 5 5 2 2 5 3 5 2 1 2 5 5 4 1 3 3 1 3 1 4 5 1\n",
      " 2 4 5 4 2 2 5 5 5 5 3 5 1 4 3 5 5 5 5 2 2 4 5 5 1 5 2 5 5 5 5 4 1 5 4 3 5\n",
      " 4 3 4 5 3 4 3 2 4 1 1 2 4 5 3 3 4 4 4 5 5 2 1 1 4 3 4 1 5 2 3 1 5 3 5 5 5\n",
      " 4 5 5 1 3 2 1 5 5 5 5 1 3 1 1 2 4 5 3 2 5 5 3 5 5 1 5 1 5 4 1 4 5 2 2 3 1\n",
      " 1 3 1 3 3 4 1 3 5 1 3 3 3 4 1 1 5 2 4 3 5 5 1 3 2 5 3 1 3 1 3 3 2 1 3 1 1\n",
      " 3]\n"
     ]
    }
   ],
   "source": [
    "training_posts = balancer.getTrainSet()[\"posts\"]\n",
    "training_labels = convertLabels(balancer.getTrainSet()[\"type\"])\n",
    "testing_posts = balancer.getTestSet()[\"posts\"]\n",
    "testing_labels = convertLabels(balancer.getTestSet()[\"type\"])\n",
    "print(testing_labels)"
   ]
  },
  {
   "cell_type": "code",
   "execution_count": 47,
   "metadata": {
    "colab": {
     "base_uri": "https://localhost:8080/"
    },
    "id": "50LEptZFKXl6",
    "outputId": "566e4359-729c-4d9b-9f93-8d0e8e1f7858"
   },
   "outputs": [
    {
     "name": "stdout",
     "output_type": "stream",
     "text": [
      "1000\n",
      "1000\n"
     ]
    }
   ],
   "source": [
    "import tensorflow as tf\n",
    "from tensorflow import keras\n",
    "from tensorflow.keras.preprocessing.text import Tokenizer\n",
    "from tensorflow.keras.preprocessing.sequence import pad_sequences\n",
    "\n",
    "print(len(testing_posts.index))\n",
    "# Only considering the top 10000 most common words\n",
    "vocab_size = 10000\n",
    "max_length = 2016\n",
    "# We have 8675 rows\n",
    "#training_size = 8675//2\n",
    "#training_posts = posts[0:training_size]\n",
    "#testing_posts = posts[training_size:]\n",
    "\n",
    "# Right now is only predicting introversion or extroversion\n",
    "#training_labels = type_labels[0:training_size]\n",
    "#testing_labels = type_labels[training_size:]\n",
    "\n",
    "# We only want to fit the tokenizer on the training, not the testing\n",
    "tokenizer = Tokenizer(num_words = vocab_size, oov_token = \"<OOV>\")\n",
    "tokenizer.fit_on_texts(training_posts)\n",
    "\n",
    "word_index = tokenizer.word_index\n",
    "\n",
    "# Puts the padding (which are 0) at the end of the vectorized sentence.\n",
    "# The longest post in our dataset is 2016, but we should truncate='post' earlier than 2016 words\n",
    "training_sequences = tokenizer.texts_to_sequences(training_posts)\n",
    "training_padded = pad_sequences(training_sequences, padding = 'post', maxlen = max_length)\n",
    "# training_sequences = np.array(training_sequences)\n",
    "training_padded = np.array(training_padded)\n",
    "\n",
    "\n",
    "testing_sequences = tokenizer.texts_to_sequences(testing_posts)\n",
    "print(len(testing_sequences))\n",
    "testing_padded = pad_sequences(testing_sequences, padding = 'post', maxlen=max_length)\n",
    "# testing_sequences = np.array(testing_sequences)\n",
    "testing_padded = np.array(testing_padded)\n",
    "\n"
   ]
  },
  {
   "cell_type": "code",
   "execution_count": 27,
   "metadata": {
    "id": "a04qLxjNN8fv"
   },
   "outputs": [],
   "source": [
    "# # Commenting out for similar reasons\n",
    "\n",
    "# #Second parameter is the output dimension. Therefore, when we are changing this to predict 4 dimensions of personality we should change it to 4\n",
    "# embedding_dim = 1\n",
    "\n",
    "# model = tf.keras.Sequential([ \n",
    "#                              tf.keras.layers.Embedding(vocab_size, embedding_dim, input_length=max_length),\n",
    "#                              tf.keras.layers.GlobalAveragePooling1D(),\n",
    "#                              tf.keras.layers.Dense(24, activation='relu'),\n",
    "#                              tf.keras.layers.Dense(1, activation='sigmoid')\n",
    "# ])\n",
    "\n",
    "# model.compile(loss = 'binary_crossentropy', optimizer = 'adam', metrics = ['accuracy'])"
   ]
  },
  {
   "cell_type": "code",
   "execution_count": 49,
   "metadata": {
    "id": "AfPpLGS7MunO"
   },
   "outputs": [],
   "source": [
    "#Second parameter is the output dimension. Therefore, when we are changing this to predict 4 dimensions of personality we should change it to 4\n",
    "# ^^ actually i dont know if that is true\n",
    "embedding_dim = 256\n",
    "'''\n",
    "Embedding layer will always have vocab_size*embedding_dim parameters. Since vocab_size is 10,000 the number of parameters on this layer will always be large\n",
    "'''\n",
    "model = tf.keras.Sequential([ \n",
    "                             tf.keras.layers.Embedding(vocab_size, embedding_dim, input_length=max_length),\n",
    "                            tf.keras.layers.GRU(256),\n",
    "                            tf.keras.layers.SimpleRNN(256),\n",
    "                             #tf.keras.layers.GlobalAveragePooling1D(),\n",
    "                            #tf.keras.layers.Dense(1000, activation='relu'),\n",
    "                            # tf.keras.layers.Dense(400, activation='relu'),\n",
    "                                #tf.keras.layers.Dense(64, activation='relu'),\n",
    "                             #tf.keras.layers.Dense(32, activation='relu'),\n",
    "                             tf.keras.layers.Dense(16, activation='softmax')\n",
    "])\n",
    "\n",
    "model.compile(loss = 'sparse_categorical_crossentropy', optimizer = 'adam', metrics = ['accuracy'])"
   ]
  },
  {
   "cell_type": "code",
   "execution_count": 50,
   "metadata": {
    "colab": {
     "base_uri": "https://localhost:8080/"
    },
    "id": "V6wi-9cvRtM6",
    "outputId": "30be599c-d625-4336-af86-7462bd9b982f"
   },
   "outputs": [
    {
     "name": "stdout",
     "output_type": "stream",
     "text": [
      "Model: \"sequential_6\"\n",
      "_________________________________________________________________\n",
      "Layer (type)                 Output Shape              Param #   \n",
      "=================================================================\n",
      "embedding_7 (Embedding)      (None, 2016, 256)         2560000   \n",
      "_________________________________________________________________\n",
      "gru_1 (GRU)                  (None, 2016, 256)         393984    \n",
      "_________________________________________________________________\n",
      "simple_rnn_2 (SimpleRNN)     (None, 256)               131328    \n",
      "_________________________________________________________________\n",
      "dense_12 (Dense)             (None, 16)                4112      \n",
      "=================================================================\n",
      "Total params: 3,089,424\n",
      "Trainable params: 3,089,424\n",
      "Non-trainable params: 0\n",
      "_________________________________________________________________\n"
     ]
    }
   ],
   "source": [
    "model.summary()"
   ]
  },
  {
   "cell_type": "code",
   "execution_count": null,
   "metadata": {
    "colab": {
     "base_uri": "https://localhost:8080/"
    },
    "id": "5ReGWYoyXKTQ",
    "outputId": "bbb1564b-c082-49a2-a534-9fc48f10cc91"
   },
   "outputs": [
    {
     "name": "stdout",
     "output_type": "stream",
     "text": [
      "1000\n",
      "1000\n",
      "Train on 1600 samples, validate on 1000 samples\n",
      "Epoch 1/10\n",
      "1600/1600 [==============================] - 255s 160ms/sample - loss: 2.8374 - acc: 0.0694 - val_loss: 2.6456 - val_acc: 0.0930\n",
      "Epoch 2/10\n",
      "1600/1600 [==============================] - 293s 183ms/sample - loss: 2.7905 - acc: 0.0775 - val_loss: 2.9270 - val_acc: 0.0000e+00\n",
      "Epoch 3/10\n",
      "1600/1600 [==============================] - 286s 179ms/sample - loss: 2.7761 - acc: 0.0850 - val_loss: 2.8973 - val_acc: 0.0930\n",
      "Epoch 4/10\n",
      "1568/1600 [============================>.] - ETA: 5s - loss: 2.7555 - acc: 0.0982 "
     ]
    }
   ],
   "source": [
    "num_epochs = 10\n",
    "print(len(testing_padded))\n",
    "print(len(testing_labels))\n",
    "history = model.fit(training_padded, training_labels, epochs = num_epochs, validation_data=(testing_padded, testing_labels), verbose = 1)"
   ]
  },
  {
   "cell_type": "code",
   "execution_count": null,
   "metadata": {
    "id": "DpMLBWYmzYM5"
   },
   "outputs": [],
   "source": []
  }
 ],
 "metadata": {
  "colab": {
   "collapsed_sections": [],
   "name": "mbti_classifier_RNN.ipynb",
   "provenance": []
  },
  "kernelspec": {
   "display_name": "Python 3",
   "language": "python",
   "name": "python3"
  },
  "language_info": {
   "codemirror_mode": {
    "name": "ipython",
    "version": 3
   },
   "file_extension": ".py",
   "mimetype": "text/x-python",
   "name": "python",
   "nbconvert_exporter": "python",
   "pygments_lexer": "ipython3",
   "version": "3.6.9"
  }
 },
 "nbformat": 4,
 "nbformat_minor": 1
}
