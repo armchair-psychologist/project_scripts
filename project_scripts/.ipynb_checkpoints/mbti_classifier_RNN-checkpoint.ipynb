{
 "cells": [
  {
   "cell_type": "code",
   "execution_count": null,
   "metadata": {
    "colab": {
     "base_uri": "https://localhost:8080/"
    },
    "id": "6BTTDiOOd_5J",
    "outputId": "7edccde4-4312-4e75-f80f-c6f43b184a54"
   },
   "outputs": [
    {
     "name": "stdout",
     "output_type": "stream",
     "text": [
      "Mounted at /content/drive\n",
      "MyDrive  Shareddrives\n"
     ]
    }
   ],
   "source": [
    "\n",
    "from google.colab import drive\n",
    "drive.mount('/content/drive')\n",
    "\n",
    "!ls '/content/drive'"
   ]
  },
  {
   "cell_type": "code",
   "execution_count": 19,
   "metadata": {},
   "outputs": [
    {
     "name": "stdout",
     "output_type": "stream",
     "text": [
      "anyascii==0.1.7\r\n",
      "anyio==2.2.0\r\n",
      "argon2-cffi==20.1.0\r\n",
      "async-generator==1.10\r\n",
      "attrs==20.3.0\r\n",
      "Babel==2.9.0\r\n",
      "backcall==0.2.0\r\n",
      "bleach==3.3.0\r\n",
      "certifi==2020.12.5\r\n",
      "cffi==1.14.5\r\n",
      "chardet==4.0.0\r\n",
      "contextvars==2.4\r\n",
      "contractions==0.0.48\r\n",
      "cycler==0.10.0\r\n",
      "dataclasses==0.8\r\n",
      "decorator==4.4.2\r\n",
      "defusedxml==0.7.0\r\n",
      "entrypoints==0.3\r\n",
      "idna==2.10\r\n",
      "immutables==0.15\r\n",
      "importlib-metadata==3.7.0\r\n",
      "ipykernel==5.5.0\r\n",
      "ipython==7.16.1\r\n",
      "ipython-genutils==0.2.0\r\n",
      "jedi==0.18.0\r\n",
      "Jinja2==2.11.3\r\n",
      "joblib==1.0.1\r\n",
      "json5==0.9.5\r\n",
      "jsonschema==3.2.0\r\n",
      "jupyter-client==6.1.11\r\n",
      "jupyter-core==4.7.1\r\n",
      "jupyter-packaging==0.7.12\r\n",
      "jupyter-server==1.4.1\r\n",
      "jupyterlab==3.0.9\r\n",
      "jupyterlab-pygments==0.1.2\r\n",
      "jupyterlab-server==2.3.0\r\n",
      "kiwisolver==1.3.1\r\n",
      "MarkupSafe==1.1.1\r\n",
      "matplotlib==3.3.4\r\n",
      "mistune==0.8.4\r\n",
      "nbclassic==0.2.6\r\n",
      "nbclient==0.5.3\r\n",
      "nbconvert==6.0.7\r\n",
      "nbformat==5.1.2\r\n",
      "nest-asyncio==1.5.1\r\n",
      "notebook==6.2.0\r\n",
      "numpy==1.19.5\r\n",
      "packaging==20.9\r\n",
      "pandas==1.1.5\r\n",
      "pandocfilters==1.4.3\r\n",
      "parso==0.8.1\r\n",
      "pexpect==4.8.0\r\n",
      "pickleshare==0.7.5\r\n",
      "Pillow==8.1.2\r\n",
      "pkg-resources==0.0.0\r\n",
      "plotly==4.14.3\r\n",
      "prometheus-client==0.9.0\r\n",
      "prompt-toolkit==3.0.16\r\n",
      "ptyprocess==0.7.0\r\n",
      "pyahocorasick==1.4.1\r\n",
      "pycparser==2.20\r\n",
      "Pygments==2.8.0\r\n",
      "pyparsing==2.4.7\r\n",
      "pyrsistent==0.17.3\r\n",
      "python-dateutil==2.8.1\r\n",
      "pytz==2021.1\r\n",
      "pyzmq==22.0.3\r\n",
      "requests==2.25.1\r\n",
      "retrying==1.3.3\r\n",
      "scikit-learn==0.24.1\r\n",
      "scipy==1.5.4\r\n",
      "seaborn==0.11.1\r\n",
      "Send2Trash==1.5.0\r\n",
      "six==1.15.0\r\n",
      "sklearn==0.0\r\n",
      "sniffio==1.2.0\r\n",
      "terminado==0.9.2\r\n",
      "testpath==0.4.4\r\n",
      "textsearch==0.0.21\r\n",
      "threadpoolctl==2.1.0\r\n",
      "tornado==6.1\r\n",
      "traitlets==4.3.3\r\n",
      "typing-extensions==3.7.4.3\r\n",
      "unicode==2.8\r\n",
      "Unidecode==1.2.0\r\n",
      "urllib3==1.26.3\r\n",
      "wcwidth==0.2.5\r\n",
      "webencodings==0.5.1\r\n",
      "zipp==3.4.1\r\n"
     ]
    }
   ],
   "source": [
    "!pip freeze"
   ]
  },
  {
   "cell_type": "code",
   "execution_count": 33,
   "metadata": {
    "colab": {
     "base_uri": "https://localhost:8080/",
     "height": 359
    },
    "id": "mJYuGsKFeGUz",
    "outputId": "16727bbe-5a32-46fc-89e2-24cd7570a3ec"
   },
   "outputs": [
    {
     "data": {
      "text/html": [
       "<div>\n",
       "<style scoped>\n",
       "    .dataframe tbody tr th:only-of-type {\n",
       "        vertical-align: middle;\n",
       "    }\n",
       "\n",
       "    .dataframe tbody tr th {\n",
       "        vertical-align: top;\n",
       "    }\n",
       "\n",
       "    .dataframe thead th {\n",
       "        text-align: right;\n",
       "    }\n",
       "</style>\n",
       "<table border=\"1\" class=\"dataframe\">\n",
       "  <thead>\n",
       "    <tr style=\"text-align: right;\">\n",
       "      <th></th>\n",
       "      <th>type</th>\n",
       "      <th>posts</th>\n",
       "    </tr>\n",
       "  </thead>\n",
       "  <tbody>\n",
       "    <tr>\n",
       "      <th>0</th>\n",
       "      <td>INFJ</td>\n",
       "      <td>'http://www.youtube.com/watch?v=qsXHcwe3krw|||...</td>\n",
       "    </tr>\n",
       "    <tr>\n",
       "      <th>1</th>\n",
       "      <td>ENTP</td>\n",
       "      <td>'I'm finding the lack of me in these posts ver...</td>\n",
       "    </tr>\n",
       "    <tr>\n",
       "      <th>2</th>\n",
       "      <td>INTP</td>\n",
       "      <td>'Good one  _____   https://www.youtube.com/wat...</td>\n",
       "    </tr>\n",
       "    <tr>\n",
       "      <th>3</th>\n",
       "      <td>INTJ</td>\n",
       "      <td>'Dear INTP,   I enjoyed our conversation the o...</td>\n",
       "    </tr>\n",
       "    <tr>\n",
       "      <th>4</th>\n",
       "      <td>ENTJ</td>\n",
       "      <td>'You're fired.|||That's another silly misconce...</td>\n",
       "    </tr>\n",
       "    <tr>\n",
       "      <th>5</th>\n",
       "      <td>INTJ</td>\n",
       "      <td>'18/37 @.@|||Science  is not perfect. No scien...</td>\n",
       "    </tr>\n",
       "    <tr>\n",
       "      <th>6</th>\n",
       "      <td>INFJ</td>\n",
       "      <td>'No, I can't draw on my own nails (haha). Thos...</td>\n",
       "    </tr>\n",
       "    <tr>\n",
       "      <th>7</th>\n",
       "      <td>INTJ</td>\n",
       "      <td>'I tend to build up a collection of things on ...</td>\n",
       "    </tr>\n",
       "    <tr>\n",
       "      <th>8</th>\n",
       "      <td>INFJ</td>\n",
       "      <td>I'm not sure, that's a good question. The dist...</td>\n",
       "    </tr>\n",
       "    <tr>\n",
       "      <th>9</th>\n",
       "      <td>INTP</td>\n",
       "      <td>'https://www.youtube.com/watch?v=w8-egj0y8Qs||...</td>\n",
       "    </tr>\n",
       "  </tbody>\n",
       "</table>\n",
       "</div>"
      ],
      "text/plain": [
       "   type                                              posts\n",
       "0  INFJ  'http://www.youtube.com/watch?v=qsXHcwe3krw|||...\n",
       "1  ENTP  'I'm finding the lack of me in these posts ver...\n",
       "2  INTP  'Good one  _____   https://www.youtube.com/wat...\n",
       "3  INTJ  'Dear INTP,   I enjoyed our conversation the o...\n",
       "4  ENTJ  'You're fired.|||That's another silly misconce...\n",
       "5  INTJ  '18/37 @.@|||Science  is not perfect. No scien...\n",
       "6  INFJ  'No, I can't draw on my own nails (haha). Thos...\n",
       "7  INTJ  'I tend to build up a collection of things on ...\n",
       "8  INFJ  I'm not sure, that's a good question. The dist...\n",
       "9  INTP  'https://www.youtube.com/watch?v=w8-egj0y8Qs||..."
      ]
     },
     "execution_count": 33,
     "metadata": {},
     "output_type": "execute_result"
    }
   ],
   "source": [
    "import numpy as np\n",
    "import pandas as pd\n",
    "from sklearn.feature_extraction.text import CountVectorizer\n",
    "import time\n",
    "import matplotlib.pyplot as plt\n",
    "from sklearn.metrics import confusion_matrix\n",
    "import os\n",
    "import plotly.express as px\n",
    "import plotly\n",
    "import seaborn as sns\n",
    "\n",
    "filePath = \"../data/mbti_1.csv\"\n",
    "\n",
    "df = pd.read_csv(filePath,header=0)\n",
    "df.head(10)"
   ]
  },
  {
   "cell_type": "code",
   "execution_count": 34,
   "metadata": {
    "colab": {
     "base_uri": "https://localhost:8080/",
     "height": 655
    },
    "id": "oxrOhLfzj0G7",
    "outputId": "038e5e7a-03ae-4cb0-8c35-25d0050fdfac"
   },
   "outputs": [
    {
     "data": {
      "text/plain": [
       "<seaborn.axisgrid.FacetGrid at 0x7fc5fe6c9b70>"
      ]
     },
     "execution_count": 34,
     "metadata": {},
     "output_type": "execute_result"
    },
    {
     "data": {
      "text/plain": [
       "<Figure size 3600x1440 with 0 Axes>"
      ]
     },
     "metadata": {},
     "output_type": "display_data"
    },
    {
     "data": {
      "image/png": "[encoded data removed]",
      "text/plain": [
       "<Figure size 842.4x595.44 with 1 Axes>"
      ]
     },
     "metadata": {
      "needs_background": "light"
     },
     "output_type": "display_data"
    }
   ],
   "source": [
    "fig = plt.gcf()\n",
    "fig.set_size_inches(50, 20)\n",
    "sns.catplot(x=\"type\", kind=\"count\", data=df,height=8.27, aspect=11.7/8.27)"
   ]
  },
  {
   "cell_type": "code",
   "execution_count": 22,
   "metadata": {},
   "outputs": [
    {
     "ename": "TypeError",
     "evalue": "strip() got an unexpected keyword argument 'expand'",
     "output_type": "error",
     "traceback": [
      "\u001b[0;31m---------------------------------------------------------------------------\u001b[0m",
      "\u001b[0;31mTypeError\u001b[0m                                 Traceback (most recent call last)",
      "\u001b[0;32m<ipython-input-22-5e9477dd0a03>\u001b[0m in \u001b[0;36m<module>\u001b[0;34m\u001b[0m\n\u001b[0;32m----> 1\u001b[0;31m \u001b[0mprint\u001b[0m\u001b[0;34m(\u001b[0m\u001b[0mdf\u001b[0m\u001b[0;34m[\u001b[0m\u001b[0;34m\"type\"\u001b[0m\u001b[0;34m]\u001b[0m\u001b[0;34m.\u001b[0m\u001b[0mstr\u001b[0m\u001b[0;34m.\u001b[0m\u001b[0mstrip\u001b[0m\u001b[0;34m(\u001b[0m\u001b[0mexpand\u001b[0m\u001b[0;34m=\u001b[0m\u001b[0;32mTrue\u001b[0m\u001b[0;34m)\u001b[0m\u001b[0;34m)\u001b[0m\u001b[0;34m\u001b[0m\u001b[0;34m\u001b[0m\u001b[0m\n\u001b[0m",
      "\u001b[0;32m~/Desktop/cmput_466/project_scripts/lib/python3.6/site-packages/pandas/core/strings.py\u001b[0m in \u001b[0;36mwrapper\u001b[0;34m(self, *args, **kwargs)\u001b[0m\n\u001b[1;32m   1999\u001b[0m                 )\n\u001b[1;32m   2000\u001b[0m                 \u001b[0;32mraise\u001b[0m \u001b[0mTypeError\u001b[0m\u001b[0;34m(\u001b[0m\u001b[0mmsg\u001b[0m\u001b[0;34m)\u001b[0m\u001b[0;34m\u001b[0m\u001b[0;34m\u001b[0m\u001b[0m\n\u001b[0;32m-> 2001\u001b[0;31m             \u001b[0;32mreturn\u001b[0m \u001b[0mfunc\u001b[0m\u001b[0;34m(\u001b[0m\u001b[0mself\u001b[0m\u001b[0;34m,\u001b[0m \u001b[0;34m*\u001b[0m\u001b[0margs\u001b[0m\u001b[0;34m,\u001b[0m \u001b[0;34m**\u001b[0m\u001b[0mkwargs\u001b[0m\u001b[0;34m)\u001b[0m\u001b[0;34m\u001b[0m\u001b[0;34m\u001b[0m\u001b[0m\n\u001b[0m\u001b[1;32m   2002\u001b[0m \u001b[0;34m\u001b[0m\u001b[0m\n\u001b[1;32m   2003\u001b[0m         \u001b[0mwrapper\u001b[0m\u001b[0;34m.\u001b[0m\u001b[0m__name__\u001b[0m \u001b[0;34m=\u001b[0m \u001b[0mfunc_name\u001b[0m\u001b[0;34m\u001b[0m\u001b[0;34m\u001b[0m\u001b[0m\n",
      "\u001b[0;31mTypeError\u001b[0m: strip() got an unexpected keyword argument 'expand'"
     ]
    }
   ],
   "source": []
  },
  {
   "cell_type": "code",
   "execution_count": 64,
   "metadata": {
    "colab": {
     "base_uri": "https://localhost:8080/",
     "height": 204
    },
    "id": "7dzztkktkFPF",
    "outputId": "f1660e81-42c8-40a8-a19d-21175cc2cb13"
   },
   "outputs": [
    {
     "name": "stdout",
     "output_type": "stream",
     "text": [
      "      0  1  2  3\n",
      "0     I  N  F  J\n",
      "1     E  N  T  P\n",
      "2     I  N  T  P\n",
      "3     I  N  T  J\n",
      "4     E  N  T  J\n",
      "...  .. .. .. ..\n",
      "8670  I  S  F  P\n",
      "8671  E  N  F  P\n",
      "8672  I  N  T  P\n",
      "8673  I  N  F  P\n",
      "8674  I  N  F  P\n",
      "\n",
      "[8675 rows x 4 columns]\n"
     ]
    },
    {
     "data": {
      "text/html": [
       "<div>\n",
       "<style scoped>\n",
       "    .dataframe tbody tr th:only-of-type {\n",
       "        vertical-align: middle;\n",
       "    }\n",
       "\n",
       "    .dataframe tbody tr th {\n",
       "        vertical-align: top;\n",
       "    }\n",
       "\n",
       "    .dataframe thead th {\n",
       "        text-align: right;\n",
       "    }\n",
       "</style>\n",
       "<table border=\"1\" class=\"dataframe\">\n",
       "  <thead>\n",
       "    <tr style=\"text-align: right;\">\n",
       "      <th></th>\n",
       "      <th>type</th>\n",
       "      <th>posts</th>\n",
       "      <th>Personality-1</th>\n",
       "      <th>Personality-2</th>\n",
       "      <th>Personality-3</th>\n",
       "      <th>Personality-4</th>\n",
       "    </tr>\n",
       "  </thead>\n",
       "  <tbody>\n",
       "    <tr>\n",
       "      <th>0</th>\n",
       "      <td>INFJ</td>\n",
       "      <td>'http://www.youtube.com/watch?v=qsXHcwe3krw|||...</td>\n",
       "      <td>I</td>\n",
       "      <td>N</td>\n",
       "      <td>F</td>\n",
       "      <td>J</td>\n",
       "    </tr>\n",
       "    <tr>\n",
       "      <th>1</th>\n",
       "      <td>ENTP</td>\n",
       "      <td>'I'm finding the lack of me in these posts ver...</td>\n",
       "      <td>E</td>\n",
       "      <td>N</td>\n",
       "      <td>T</td>\n",
       "      <td>P</td>\n",
       "    </tr>\n",
       "    <tr>\n",
       "      <th>2</th>\n",
       "      <td>INTP</td>\n",
       "      <td>'Good one  _____   https://www.youtube.com/wat...</td>\n",
       "      <td>I</td>\n",
       "      <td>N</td>\n",
       "      <td>T</td>\n",
       "      <td>P</td>\n",
       "    </tr>\n",
       "    <tr>\n",
       "      <th>3</th>\n",
       "      <td>INTJ</td>\n",
       "      <td>'Dear INTP,   I enjoyed our conversation the o...</td>\n",
       "      <td>I</td>\n",
       "      <td>N</td>\n",
       "      <td>T</td>\n",
       "      <td>J</td>\n",
       "    </tr>\n",
       "    <tr>\n",
       "      <th>4</th>\n",
       "      <td>ENTJ</td>\n",
       "      <td>'You're fired.|||That's another silly misconce...</td>\n",
       "      <td>E</td>\n",
       "      <td>N</td>\n",
       "      <td>T</td>\n",
       "      <td>J</td>\n",
       "    </tr>\n",
       "  </tbody>\n",
       "</table>\n",
       "</div>"
      ],
      "text/plain": [
       "   type                                              posts Personality-1  \\\n",
       "0  INFJ  'http://www.youtube.com/watch?v=qsXHcwe3krw|||...             I   \n",
       "1  ENTP  'I'm finding the lack of me in these posts ver...             E   \n",
       "2  INTP  'Good one  _____   https://www.youtube.com/wat...             I   \n",
       "3  INTJ  'Dear INTP,   I enjoyed our conversation the o...             I   \n",
       "4  ENTJ  'You're fired.|||That's another silly misconce...             E   \n",
       "\n",
       "  Personality-2 Personality-3 Personality-4  \n",
       "0             N             F             J  \n",
       "1             N             T             P  \n",
       "2             N             T             P  \n",
       "3             N             T             J  \n",
       "4             N             T             J  "
      ]
     },
     "execution_count": 64,
     "metadata": {},
     "output_type": "execute_result"
    }
   ],
   "source": [
    "df[\"type\"] = df[\"type\"].str.strip()\n",
    "# Seperate the the label into four different parts\n",
    "target_multi_label = df[\"type\"].str.split(r\".\",expand=True)\n",
    "target_multi_label = df[\"type\"].apply(lambda x:pd.Series(list(x)))\n",
    "\n",
    "target_multi_label.columns = [\"Personality-1\",\"Personality-2\",\"Personality-3\",\"Personality-4\"]\n",
    "\n",
    "df = pd.concat([df,target_multi_label] , axis=1)\n",
    "\n",
    "df.head()"
   ]
  },
  {
   "cell_type": "code",
   "execution_count": null,
   "metadata": {
    "colab": {
     "base_uri": "https://localhost:8080/",
     "height": 1000
    },
    "id": "RLTe2qMNkLzT",
    "outputId": "d7157258-b753-4b56-bcbc-b74d9f5090ad"
   },
   "outputs": [
    {
     "data": {
      "text/plain": [
       "<seaborn.axisgrid.FacetGrid at 0x7f9001bd8d10>"
      ]
     },
     "execution_count": 5,
     "metadata": {
      "tags": []
     },
     "output_type": "execute_result"
    },
    {
     "data": {
      "text/plain": [
       "<Figure size 3600x1440 with 0 Axes>"
      ]
     },
     "metadata": {
      "tags": []
     },
     "output_type": "display_data"
    },
    {
     "data": {
      "image/png": "[encoded data removed]",
      "text/plain": [
       "<Figure size 288x360 with 1 Axes>"
      ]
     },
     "metadata": {
      "needs_background": "light",
      "tags": []
     },
     "output_type": "display_data"
    },
    {
     "data": {
      "image/png": "[encoded data removed]",
      "text/plain": [
       "<Figure size 288x360 with 1 Axes>"
      ]
     },
     "metadata": {
      "needs_background": "light",
      "tags": []
     },
     "output_type": "display_data"
    },
    {
     "data": {
      "image/png": "[encoded data removed]",
      "text/plain": [
       "<Figure size 288x360 with 1 Axes>"
      ]
     },
     "metadata": {
      "needs_background": "light",
      "tags": []
     },
     "output_type": "display_data"
    },
    {
     "data": {
      "image/png": "[encoded data removed]",
      "text/plain": [
       "<Figure size 288x360 with 1 Axes>"
      ]
     },
     "metadata": {
      "needs_background": "light",
      "tags": []
     },
     "output_type": "display_data"
    }
   ],
   "source": [
    "fig = plt.gcf()\n",
    "fig.set_size_inches(50, 20)\n",
    "sns.catplot(x=\"Personality-1\", kind=\"count\", data=df,height=5, aspect=4/5)\n",
    "sns.catplot(x=\"Personality-2\", kind=\"count\", data=df,height=5, aspect=4/5)\n",
    "sns.catplot(x=\"Personality-3\", kind=\"count\", data=df,height=5, aspect=4/5)\n",
    "sns.catplot(x=\"Personality-4\", kind=\"count\", data=df,height=5, aspect=4/5)"
   ]
  },
  {
   "cell_type": "code",
   "execution_count": 65,
   "metadata": {
    "colab": {
     "base_uri": "https://localhost:8080/"
    },
    "id": "48CoWsEQkOXv",
    "outputId": "b6e3db30-4fc3-4dea-f86a-223454dd3e29"
   },
   "outputs": [
    {
     "name": "stdout",
     "output_type": "stream",
     "text": [
      "Requirement already satisfied: Unidecode in /home/ivan/Desktop/cmput_466/project_scripts/lib/python3.6/site-packages\n",
      "Requirement already satisfied: contractions in /home/ivan/Desktop/cmput_466/project_scripts/lib/python3.6/site-packages\n",
      "Requirement already satisfied: textsearch>=0.0.21 in /home/ivan/Desktop/cmput_466/project_scripts/lib/python3.6/site-packages (from contractions)\n",
      "Requirement already satisfied: anyascii in /home/ivan/Desktop/cmput_466/project_scripts/lib/python3.6/site-packages (from textsearch>=0.0.21->contractions)\n",
      "Requirement already satisfied: pyahocorasick in /home/ivan/Desktop/cmput_466/project_scripts/lib/python3.6/site-packages (from textsearch>=0.0.21->contractions)\n"
     ]
    },
    {
     "name": "stderr",
     "output_type": "stream",
     "text": [
      "[nltk_data] Downloading package wordnet to /home/ivan/nltk_data...\n",
      "[nltk_data]   Package wordnet is already up-to-date!\n"
     ]
    }
   ],
   "source": [
    "#version1 of text pre-processing\n",
    "\n",
    "#source:https://towardsdatascience.com/nlp-text-preprocessing-a-practical-guide-and-template-d80874676e79\n",
    "!pip install Unidecode\n",
    "!pip install contractions\n",
    "import nltk\n",
    "nltk.download('wordnet')\n",
    "\n",
    "from bs4 import BeautifulSoup\n",
    "import unidecode \n",
    "#from word2number import w2n\n",
    "import contractions\n",
    "from nltk.stem import WordNetLemmatizer \n",
    "import re\n",
    "\n",
    "def preprocessing_v1(text):\n",
    "    #remove html information\n",
    "    soup = BeautifulSoup(text, \"html.parser\")\n",
    "    processed = soup.get_text(separator=\" \")\n",
    "    \n",
    "    #remove http// \n",
    "    processed = re.sub(r\"http\\S+\", \"\", processed)\n",
    "\n",
    "    #remove ||| seperate\n",
    "    processed = re.sub(r'\\|\\|\\|', r' ', processed)\n",
    "\n",
    "    #lower case\n",
    "    processed = processed.lower()\n",
    "\n",
    "    #expand shortened words, e.g. don't to do not\n",
    "    processed = contractions.fix(processed)\n",
    "\n",
    "    #remove accented char\n",
    "    processed = unidecode.unidecode(processed)\n",
    "\n",
    "    #remove white space\n",
    "    #processed = processed.strip()\n",
    "    #processed = \" \".join(processed.split())\n",
    "\n",
    "    # Lemmatizing \n",
    "    lemmatizer = WordNetLemmatizer() \n",
    "    processed=lemmatizer.lemmatize(processed)\n",
    "\n",
    "\n",
    "    return processed"
   ]
  },
  {
   "cell_type": "code",
   "execution_count": 66,
   "metadata": {
    "colab": {
     "base_uri": "https://localhost:8080/",
     "height": 204
    },
    "id": "Mr6aWGq7kWzg",
    "outputId": "cc0d7f10-2cfc-46af-d851-1069844dc135"
   },
   "outputs": [
    {
     "data": {
      "text/html": [
       "<div>\n",
       "<style scoped>\n",
       "    .dataframe tbody tr th:only-of-type {\n",
       "        vertical-align: middle;\n",
       "    }\n",
       "\n",
       "    .dataframe tbody tr th {\n",
       "        vertical-align: top;\n",
       "    }\n",
       "\n",
       "    .dataframe thead th {\n",
       "        text-align: right;\n",
       "    }\n",
       "</style>\n",
       "<table border=\"1\" class=\"dataframe\">\n",
       "  <thead>\n",
       "    <tr style=\"text-align: right;\">\n",
       "      <th></th>\n",
       "      <th>type</th>\n",
       "      <th>posts</th>\n",
       "      <th>Personality-1</th>\n",
       "      <th>Personality-2</th>\n",
       "      <th>Personality-3</th>\n",
       "      <th>Personality-4</th>\n",
       "    </tr>\n",
       "  </thead>\n",
       "  <tbody>\n",
       "    <tr>\n",
       "      <th>0</th>\n",
       "      <td>INFJ</td>\n",
       "      <td>' and intj moments    sportscenter not top ten...</td>\n",
       "      <td>I</td>\n",
       "      <td>N</td>\n",
       "      <td>F</td>\n",
       "      <td>J</td>\n",
       "    </tr>\n",
       "    <tr>\n",
       "      <th>1</th>\n",
       "      <td>ENTP</td>\n",
       "      <td>'I am finding the lack of me in these posts ve...</td>\n",
       "      <td>E</td>\n",
       "      <td>N</td>\n",
       "      <td>T</td>\n",
       "      <td>P</td>\n",
       "    </tr>\n",
       "    <tr>\n",
       "      <th>2</th>\n",
       "      <td>INTP</td>\n",
       "      <td>'good one  _____    course, to which i say i k...</td>\n",
       "      <td>I</td>\n",
       "      <td>N</td>\n",
       "      <td>T</td>\n",
       "      <td>P</td>\n",
       "    </tr>\n",
       "    <tr>\n",
       "      <th>3</th>\n",
       "      <td>INTJ</td>\n",
       "      <td>'dear intp,   i enjoyed our conversation the o...</td>\n",
       "      <td>I</td>\n",
       "      <td>N</td>\n",
       "      <td>T</td>\n",
       "      <td>J</td>\n",
       "    </tr>\n",
       "    <tr>\n",
       "      <th>4</th>\n",
       "      <td>ENTJ</td>\n",
       "      <td>'you are fired. that is another silly misconce...</td>\n",
       "      <td>E</td>\n",
       "      <td>N</td>\n",
       "      <td>T</td>\n",
       "      <td>J</td>\n",
       "    </tr>\n",
       "  </tbody>\n",
       "</table>\n",
       "</div>"
      ],
      "text/plain": [
       "   type                                              posts Personality-1  \\\n",
       "0  INFJ  ' and intj moments    sportscenter not top ten...             I   \n",
       "1  ENTP  'I am finding the lack of me in these posts ve...             E   \n",
       "2  INTP  'good one  _____    course, to which i say i k...             I   \n",
       "3  INTJ  'dear intp,   i enjoyed our conversation the o...             I   \n",
       "4  ENTJ  'you are fired. that is another silly misconce...             E   \n",
       "\n",
       "  Personality-2 Personality-3 Personality-4  \n",
       "0             N             F             J  \n",
       "1             N             T             P  \n",
       "2             N             T             P  \n",
       "3             N             T             J  \n",
       "4             N             T             J  "
      ]
     },
     "execution_count": 66,
     "metadata": {},
     "output_type": "execute_result"
    }
   ],
   "source": [
    "df['posts'] = df['posts'].apply(preprocessing_v1)\n",
    "posts = df['posts']\n",
    "df.head()"
   ]
  },
  {
   "cell_type": "code",
   "execution_count": 36,
   "metadata": {
    "colab": {
     "base_uri": "https://localhost:8080/"
    },
    "id": "-j_Dkn7lkoFT",
    "outputId": "3ae71ee7-4544-49b4-e66a-b78997aa3e5c"
   },
   "outputs": [
    {
     "name": "stdout",
     "output_type": "stream",
     "text": [
      "'http://www.youtube.com/watch?v=qsXHcwe3krw|||http://41.media.tumblr.com/tumblr_lfouy03PMA1qa1rooo1_500.jpg|||enfp and intj moments  https://www.youtube.com/watch?v=iz7lE1g4XM4  sportscenter not top ten plays  https://www.youtube.com/watch?v=uCdfze1etec  pranks|||What has been the most life-changing experience in your life?|||http://www.youtube.com/watch?v=vXZeYwwRDw8   http://www.youtube.com/watch?v=u8ejam5DP3E  On repeat for most of today.|||May the PerC Experience immerse you.|||The last thing my INFJ friend posted on his facebook before committing suicide the next day. Rest in peace~   http://vimeo.com/22842206|||Hello ENFJ7. Sorry to hear of your distress. It's only natural for a relationship to not be perfection all the time in every moment of existence. Try to figure the hard times as times of growth, as...|||84389  84390  http://wallpaperpassion.com/upload/23700/friendship-boy-and-girl-wallpaper.jpg  http://assets.dornob.com/wp-content/uploads/2010/04/round-home-design.jpg ...|||Welcome and stuff.|||http://playeressence.com/wp-content/uploads/2013/08/RED-red-the-pokemon-master-32560474-450-338.jpg  Game. Set. Match.|||Prozac, wellbrutin, at least thirty minutes of moving your legs (and I don't mean moving them while sitting in your same desk chair), weed in moderation (maybe try edibles as a healthier alternative...|||Basically come up with three items you've determined that each type (or whichever types you want to do) would more than likely use, given each types' cognitive functions and whatnot, when left by...|||All things in moderation.  Sims is indeed a video game, and a good one at that. Note: a good one at that is somewhat subjective in that I am not completely promoting the death of any given Sim...|||Dear ENFP:  What were your favorite video games growing up and what are your now, current favorite video games? :cool:|||https://www.youtube.com/watch?v=QyPqT8umzmY|||It appears to be too late. :sad:|||There's someone out there for everyone.|||Wait... I thought confidence was a good thing.|||I just cherish the time of solitude b/c i revel within my inner world more whereas most other time i'd be workin... just enjoy the me time while you can. Don't worry, people will always be around to...|||Yo entp ladies... if you're into a complimentary personality,well, hey.|||... when your main social outlet is xbox live conversations and even then you verbally fatigue quickly.|||http://www.youtube.com/watch?v=gDhy7rdfm14  I really dig the part from 1:46 to 2:50|||http://www.youtube.com/watch?v=msqXffgh7b8|||Banned because this thread requires it of me.|||Get high in backyard, roast and eat marshmellows in backyard while conversing over something intellectual, followed by massages and kisses.|||http://www.youtube.com/watch?v=Mw7eoU3BMbE|||http://www.youtube.com/watch?v=4V2uYORhQOk|||http://www.youtube.com/watch?v=SlVmgFQQ0TI|||Banned for too many b's in that sentence. How could you! Think of the B!|||Banned for watching movies in the corner with the dunces.|||Banned because Health class clearly taught you nothing about peer pressure.|||Banned for a whole host of reasons!|||http://www.youtube.com/watch?v=IRcrv41hgz4|||1) Two baby deer on left and right munching on a beetle in the middle.  2) Using their own blood, two cavemen diary today's latest happenings on their designated cave diary wall.  3) I see it as...|||a pokemon world  an infj society  everyone becomes an optimist|||49142|||http://www.youtube.com/watch?v=ZRCEq_JFeFM|||http://discovermagazine.com/2012/jul-aug/20-things-you-didnt-know-about-deserts/desert.jpg|||http://oyster.ignimgs.com/mediawiki/apis.ign.com/pokemon-silver-version/d/dd/Ditto.gif|||http://www.serebii.net/potw-dp/Scizor.jpg|||Not all artists are artists because they draw. It's the idea that counts in forming something of your own... like a signature.|||Welcome to the robot ranks, person who downed my self-esteem cuz I'm not an avid signature artist like herself. :proud:|||Banned for taking all the room under my bed. Ya gotta learn to share with the roaches.|||http://www.youtube.com/watch?v=w8IgImn57aQ|||Banned for being too much of a thundering, grumbling kind of storm... yep.|||Ahh... old high school music I haven't heard in ages.   http://www.youtube.com/watch?v=dcCRUPCdB1w|||I failed a public speaking class a few years ago and I've sort of learned what I could do better were I to be in that position again. A big part of my failure was just overloading myself with too...|||I like this person's mentality. He's a confirmed INTJ by the way. http://www.youtube.com/watch?v=hGKLI-GEc6M|||Move to the Denver area and start a new life for myself.'\n",
      "'I'm finding the lack of me in these posts very alarming.|||Sex can be boring if it's in the same position often. For example me and my girlfriend are currently in an environment where we have to creatively use cowgirl and missionary. There isn't enough...|||Giving new meaning to 'Game' theory.|||Hello *ENTP Grin*  That's all it takes. Than we converse and they do most of the flirting while I acknowledge their presence and return their words with smooth wordplay and more cheeky grins.|||This + Lack of Balance and Hand Eye Coordination.|||Real IQ test I score 127. Internet IQ tests are funny. I score 140s or higher.  Now, like the former responses of this thread I will mention that I don't believe in the IQ test. Before you banish...|||You know you're an ENTP when you vanish from a site for a year and a half, return, and find people are still commenting on your posts and liking your ideas/thoughts. You know you're an ENTP when you...|||http://img188.imageshack.us/img188/6422/6020d1f9da6944a6b71bbe6.jpg|||http://img.adultdvdtalk.com/813a0c6243814cab84c51|||I over think things sometimes. I go by the old Sherlock Holmes quote.  Perhaps, when a man has special knowledge and special powers like my  own, it rather encourages him to seek a complex...|||cheshirewolf.tumblr.com  So is I :D|||400,000+  post|||Not really; I've never thought of E/I or J/P as real functions.  I judge myself on what I use. I use Ne and Ti as my dominates. Fe for emotions and rarely Si. I also use Ni due to me strength...|||You know though. That was ingenious. After saying it I really want to try it and see what happens with me playing a first person shooter in the back while we drive around. I want to see the look on...|||out of all of them the rock paper one is the best. It makes me lol.  You guys are lucky :D I'm really high up on the tumblr system.|||So did you hear about that new first person shooter game? I've been rocking the hell out of the soundtrack on my auto sound equipment that will shake the heavens. We managed to put a couple PS3's in...|||No; The way he connected things was very Ne. Ne dominates are just as aware of their environments as Se dominates.  Example: Shawn Spencer or Patrick Jane; Both ENTPs.|||Well charlie I will be the first to admit I do get jealous like you do. I chalk it up to my 4w3 heart mixed with my dominate 7w8. 7s and 8s both like to be noticed. 4's like to be known (not the same...|||;D I'll upload the same clip with the mic away from my mouth. Than you won't hear anything.  Ninja Assassin style but with splatter.|||Tik Tok is a really great song. As long as you can mental block out the singer. I love the beat it makes me bounce.|||drop.io v1swck0  :D Mic really close to my mouth and smokin aces: assassins ball playing in the background.|||Sociable =/= extrovert; I'm an extrovert and I'm not sociable. :)|||Sherlock in the movie was an ENTP. Normally he's played as a EXTJ. In the books he's an ESTJ.  As I said. The movie looked good except for it being called sherlock holmes.|||http://i817.photobucket.com/albums/zz96/kamioo/Dirtywinch.png|||Oh, I never had fear of kissing a guy. I will kiss an animal too. So there was nothing to vanish. Just personal taste and me not liking it.  The guy I kissed didn't know me. It was one of those...|||Sounds pretty much like my area and what I'm going through right now trying to figure out which way I want to take my life. I want to do so many things. The biggest problem is that I know if I don't...|||;D I was operating under the impression that you were female. I never looked at your boxy. Okay, I help out my gay friends all the time and one of them has developed a little crush on me. I get red...|||T_T You just described me  and I'm living the worst nightmare. I'm trapped in one place with one one around. Only dull woods. If I was a serial killer this would be the perfect place but sadly I'm...|||TBH, and biased, sounds like a shadowed INFP. I think maybe he was hurt and turned ESTJ. I can tell because he has some of the typical INFP traits left over.|||*Checks list* I'm sorry. It seems that you have came at a bad time. We've already reached our quota of INFJs. However, being you're female and I like females I will make you a deal. I will kick one...|||I'm ANTP (Leaning toward E). I'm easy for both ENTPs and INTPs to identify with. :)|||I also imagine ENTP's interrogations would go a little bit like Jack's from 24 except more mechanical. Rigging up shock treatment equipment in an abandoned building out of an old car batty, jumper...|||It was a compliment :) Trust me. I'm just as psychopathic :D except I have emoticons. They're just weird ones. Like laughing when I get hurt or at people running themselves over with their lawn mower...|||http://i817.photobucket.com/albums/zz96/kamioo/Thunderstorm.pnghttp://i817.photobucket.com/albums/zz96/kamioo/Thunderstormbw.png http://i817.photobucket.com/albums/zz96/kamioo/Cosmicstorm.png|||No. It's like a theme for where I live and that is why I know it by heart.   http://www.youtube.com/watch?v=j5W73HaVQBg|||and I usual don't leave until the thing ends. But in the mean time. In between times. You work your thing. I'll work mine :D  ;D I'm the MBP; Pleasure to meet you.|||Damn, need to trust my instincts more I would have been closer I was going to say INFP.|||EXFP? Leaning toward S with the way she responded.  :D My friends, even my gay and lesbian ones, always come to me for advice.|||I bow to my entp masters ENTPs are so great. If it wasn't for ENTPs I wouldn't have been able to build what I'm building  Duck Duck  Duck  Shotgun|||What? Me? I never do that >.> <.<|||Because its hard to be sad about losing someone you like when you knew you were right and give yourself a big pat on the back because you're awesome and always correct.|||Oh, you don't have to tell me that most of them are stupid. I know this. That is why I play with them and it makes me laugh. :D As I'm going to take Neuropsychology and I have a few psychologist...|||:D I'm a Nightowl. I wake up between 6-7pm and stay awake till 10-11:30am.|||Personal opinion backed by theory would suggest that INTPs are the most socially difficult. While INTJs can be socially indifferent but they will also use social situations if the the need arises....|||Personal stocks that I have on my desktop that I've downloaded from random stock sites and stock photobuckets.|||I'll tell you when I open photoshop.  :) Glad you like it static.|||:D Thanks.|||http://i817.photobucket.com/albums/zz96/kamioo/Deathgrip.png http://i817.photobucket.com/albums/zz96/kamioo/Deathgripbw.png  Made for a friend. Several hours of work. I constructed every line by...|||:) Static: http://i817.photobucket.com/albums/zz96/kamioo/Statickitten.png  I'll have to get to your avatar later if one of my fellow teammates doesn't.|||Psychologist don't keep me around long enough to diagnosis me. I like to toy with them. What I have diagnosis myself with and had a few psychologist friends (+ a few other friends) tell me I have is...'\n",
      "'Good one  _____   https://www.youtube.com/watch?v=fHiGbolFFGw|||Of course, to which I say I know; that's my blessing and my curse.|||Does being absolutely positive that you and your best friend could be an amazing couple count? If so, than yes.   Or it's more I could be madly in love in case I reconciled my feelings (which at...|||No, I didn't; thank you for a link!|||So-called Ti-Si loop (and it can stem from any current topic/obsession) can be deadly. It's like when you're stuck in your own thoughts, and your mind just wanders in circles. Feels truly terrible. ...|||Have you noticed how peculiar vegetation can be? All you have to do is look down at the grass: dozens of different plant species there.    And now imagine that hundreds of years later (when/if soil...|||The Smiths – Never Had No One Ever|||I often find myself spotting faces on marble tiles/wood.|||This 5 year-old sentence is an incredibly accurate and beautiful description.|||I haven't visited this website in the last 3 years. So whoever reads this (and maybe even remembers me, which I highly doubt): hi.  700049  700057|||When you sit in your garden until 10:30 PM writing songs, and sing them (together with dozens of crickets) while playing your acoustic guitar.|||This is the most INTP-ish thread I've ever seen.|||I wouldn't be able to look at the painting for the entire life if I knew that I picked it over the human being.|||I was drawing a background for my animation on which I'm working right now - it should have been Mars.. But I felt obligated to make Mark Watneyx92s postcard from it :D  If you read the book...|||I started to make comics about turtle Gordon and unicorn Chimes - here you can see two first stories: https://www.tumblr.com/blog/-alexxxandra-|||INTJ Recently I started to post my comics about two friends - turtle Gordon and unicorn Chimes. Before that, I just posted stuff that interested me, but from now on I'll try to include only my works...|||Probably we could work together on a new model - I'm an expert in abrupt explosions of laughter upon various weird stuff. That happens because of peculiar sense of humor - so peculiar that not much...|||Hellooo Nah, you can touch it. Everyone thinks that it's scared or sad, but that's not true - in fact it has an absolutely neutral face. And this kitten actually really likes patting and hugs (only...|||Well.. kind of; As it was already mentioned, sometimes because of Ni it's hard to convey complex stuff which pops up in your head in whimsical compilations of shapes and pictures only with words....|||I think this kitten would be very appropriate here.  376562|||367034|||GOOD NIGHT everyone out there! Even if for someone there is morning right now - nights always supersede mornings.. And people say good night in order to meet next day :)|||Oh, that movie :) It's awesome Thank you! Hope you had good sleep in the air; anyway, I'm wishing you good night for the next night ahead! (hopefully it will be on land)  Good people deserve good...|||358882  358890|||Well, other people who may be wondering about an issue from the name of the topic will find your response helpful anyway :)|||This. Finally someone mentioned that :)|||I still see creatures/faces in a maze of various random patterns. It can be amusing sometimes.  It's a very handy skill when you're bored.|||Oh, I didn't know that.. What a pity.  Why not sacrifice whole supermarket, then? We can decide which Walmart will be the best (I think the biggest one would be great).|||yippy  Here you go  357002  He thinks that the fire is delicious. Should I sacrifice tofu? I don't like to waste food.|||I don't think that the creator of this thread cares what's going on here after 3 years :)|||Heh, I understand you :) With these same given languages)))|||Yessss, Adventure Time :D|||I get angry quite rarely, but when I do, it's safer for surrounding people to go somewhere else. It's impossible for me to hide or suppress anger; the only way to get rid of this feeling is to burst...|||I've never liked it  Anything fake is bad, actually.|||Hugs should be given only to chosen ones. Chosen. There are quite few of them, though.|||349890|||Yup, you're doing it right :)|||http://-alexxxandra-.tumblr.com/|||256818|||Of course it's not very comfortable.  But. Human race survived thankfully women's ability to give birth to other human beings. It worked for thousands of years. Why change it? Besides, there are...|||That happens. And it occurs because most often people use results of extremely precise and elaborate online tests as a basis of determining one's type.      Both visual and language arts (more...|||246386|||I study graphic design now, which I really enjoy. What is interesting about this field, is that the ability to generate ideas and solve problems is much more important than possession of a specific...|||Alexxxandra97 - DeviantArt|||236994|||http://www.youtube.com/watch?v=2Nkcn8m9M0M|||I am always ready to discipline (to intimidate, to be precise) my sibling's offender.|||World domination? Shooting people in the head? Why?  Oh, right, INTJs always must be characterised only with these words.     I want to show so badly my reaction to this: 221226|||218106|||ISTP?   http://www.youtube.com/watch?v=7ghqoYxmaUE'\n",
      "'Dear INTP,   I enjoyed our conversation the other day.  Esoteric gabbing about the nature of the universe and the idea that every rule and social code being arbitrary constructs created...|||Dear ENTJ sub,   Long time no see.  Sincerely, Alpha|||None of them. All other types hurt in deep existential ways that I want no part of.|||Probably a sliding scale that depends on individual preferences, like everything in humanity.|||Draco Malfoy also. I'd say he's either 358 or 368.|||I'm either 358 or 385, though in which stacking to me is a somewhat arbitrary distinction to make as I believe that the core indicates primary motivation and has a hand in every action. Therefore, a...|||I'm not particularly introverted or extraverted, personally. That said, I would say I'm somewhat unphased by either social interactions or being alone. What I'd say I crave more so than anything is...|||Dear Type 9 INFP,  Your absolute admiration of me is refreshing. You're a great girlfriend and I wish we both didn't have such busy schedules so we could be around one another more often.  Keep...|||2% still means about 1/50 people. I've probably seen 1-2 others today. I never understood fascination by virtue of rarity.|||So, you're on the ESFJ train also, right?|||I have toyed with the idea of the OP being an extrovert also for awhile now, actually. After many conversations with him, however I'm disinclined to believe it due to OP being much too close with Fi...|||Still ESFJ|||I disagree.  Definite ESFJ. Fe- Si ALL up in this.|||Where have you been?  Your mother and I have been worried sick.|||Similar feelings concerning ENTPs.|||I collect shoes. I do so because I like status and nothing communicates such a thing as much as a pair of Jordans.|||Sure. Let's get weird.    Back. Off.|||Best...|||[Insert other into previous post.]|||Wow, don't nobody got time fo' dat...  Jk, u kno u mah boi.|||Well, as I'm sure everyone knows, being social primary doesn't necessarily equal being social. I like other people just fine, but lately I've been on a bit of a break when it comes to my...|||That's pretty crappy of her. Your sex life is definitely not her business. If I were you, I'd definitely talk to her about it.|||Yeah, I had a lot longer to think about it. That said, I don't think you're Te, so if we operate under the assumptions in the OP, you're INFJ because nothing else makes sense. I'm not saying I...|||Whether or not you actually are, your mom makes fun of you for being a virgin? Is this playful teasing?|||Just stab in the dark here, I don't think that's Te under the hood. If this here is all I'm given to work with, I'd have to say INFJ.  Compare your idea of 'logic' to mine:  Logic is a series of...|||What makes the most sense?|||Tentatively INTJ. Still reading.  EDIT: So far, I am of the belief that you're most of the things you say you are. I appreciate the level of detail.  EDIT: Also relatively certain you are Ni...|||Refreshing self with reading about instinctual variants.  God, I'm a hard social type.|||WOW! Useful thought you had there! Wanna know what my favorite part was?  The fact that it ended...|||I am both annoyed and intrigued by xxFPs.  As far as I can tell, I dislike all J types in my normal life.|||I'm not of the mind that any enneatype/MBTI combination is impossible because cognition =/= the things that motivate us. That said, we can clearly observe many types being more common than others...|||Sx as hell...   https://www.youtube.com/watch?v=uelHwf8o7_U|||Very seriously toying with the idea of being 351. I can be pretty aggressive and controlling, but I have a massive 'holier than thou' streak once you get to know me with any depth (like more than 1-2...|||I'd say it's a mostly emotional experience.|||Because I find in depth study of cognition more interesting. Included MBTI in my answer to illustrate how much I enjoyed socionics. Interpret the post as wholehearted agreement with what she was...|||No real argument here.   I know what I am, and what I am is an asshole that is, for a second baring his teeth at the people that seemingly have a lot to say but refuse to address me beyond a single...|||I would refer you to the OP. If you need a literal analysis, I'm happy to provide it. That said, I'm going to assume you're able to read and interpret symbolism, so I doubt you'll need that much help.|||And this was sort of my thought process. The initial post and how it connects the generally accepted view of the type 3 and what the type 3 is motivated by doesn't seem to be in need of explanation....|||Oh my...  I am quite crushable, huh?  Back atcha.|||I was, but it's 5am. I'll take what I can get.|||I wanted to come up with something clever, but it's almost 5am.  I would give you a lot of sex.|||So then why do you even bother asking if you've already made up your mind that you are an extravert, intuitive and feeling? If you've  already decided you are these things and have evidently done the...|||Wasn't sure I listened to sx music until now.   https://www.youtube.com/watch?v=7hcYx_y5xdo|||INFP messaged me with a picture of herself before going to bed.  Asked me to say goodnight to her.  Asked me to say goodnight to her again.  I did. I thought it was weird, secretly.  I like...|||Either way, you see my point. The actual rarity is skewed and makes a type seem rarer than it likely is in real contexts. I may have been the only one of my type in a class room in High School, but...|||WOW my math was off! I literally just said numbers. See how over glorified the type is?  Even so, though. I saw around two-hundred people (REALLY rough estimate) between both of my jobs. It's...|||Rarity in the context of the entire planet is somewhat silly. Even if we assume the greatest reports of our 'rarity', we (INTJ) encompass 1% of the planet, which sounds rare when you don't think...|||One could say that whatever the culmination of all of our actions are throughout our lives equal our potential.  In this sense, everybody does, but as we all know, not everyone's potential is the...|||I would agree, however, those that profess to know their type not stating anything about their type's motivations strike me as either not wanting to touch on them or not being able to. If they don't...|||Lol.'\n",
      "'You're fired.|||That's another silly misconception. That approaching is logically is going to be the key to unlocking whatever it is you think you are entitled to.   Nobody wants to be approached with BS...|||But guys... he REALLY wants to go on a super-duper-long-ass vacation. C'mon guys. His boss just doesn't listen or get it. He even approached him logically and everything.|||Never mind. Just go on permanent vacation.|||Two months? I wouldn't be crazy about the idea. If you are really his best employee, then that's what may be cooking him. Who wants their most reliable asset gone for that long?  ENTJ employer...|||Lol. Its not like our views were unsolicited. What a victim.|||Sometimes I just really like impoverished rap music.   https://www.youtube.com/watch?v=Xh0vA6_8mv8|||I probably would have lost it too. His stonewalling was insignificant. He was being an idiot over semantics that didn't have any impact on anything. It's one thing to stone wall on critical shit, but...|||I would have just taken the project and gave them something later.|||The court deposition wasn't a skit. That actually happened. It was a verbatim reenactment.|||And her ass.|||I'll flirt a woman for a piece of candy at the grocery store. Of course. I use whatever I have at my disposal to get what I want in the most efficient manner possible. If that means flirting that...|||http://youtu.be/PZbqAMEwtOE|||Yes. In the comments she gave more info, then was shut down because she went from having a crush on her boss and wanted to know how to impress him, to her boss is married and she wasn't interested. I...|||What's this we thing about?|||Callaendia are you the same INFP girl who was on the ENTJ Facebook forum with this similar question? I just have to ask because the times are so close together, and the scenario is so similar.|||3X|||11/25 I do not modify myself to suit others, however I do like the spotlight.|||I think the easiest and most efficient approach is a tarp, jigsaw, and mulcher. But that's just my personal preference. Not all ENTJs are the same.|||Just don't hump my leg...|||What are you like a chihuahua or some shit?|||I once dumped a girl in college who I was having a 6 month romp with over making me late for class. She said I was petty for it.|||DEAD XD   http://youtu.be/PaghIdSJKvQ|||MBTIPC perfect. I don't like dealing with middle men either. You can talk directly to me.  ;)|||I can sell you the dream...|||LOL DEAD. Ha!|||The point is that when you are making a point of thinking critically but not thinking beyond common sense, you aren't using your brain. A little bit of effort now to have an understanding of the...|||That's just common sense  No, that's just a value judgement backed by popular opinion from social stupidity/laziness. That's only doing what works instead of pushing harder and doing what is...|||When it comes to children, they either cry or climb all over me. There is never a gray area.|||I don't drink, but when I drank:  Beer: Hardcore ciders and sweet brown ales.  Liquor: VODKA chased with cran or water. < my preferred drink  Wine: Anything dark, dry and sweet. There are so...|||Well that escalated quickly.|||https://encrypted-tbn2.gstatic.com/images?q=tbn:ANd9GcSDA-GNSWRqDgxZibQPN3dfS2LlChp8tO6FCCeVBHuIlYUVfjzkVH2sGAv_  You deal with them.|||tl;dr fuuuuu|||Those people who think they know everything are a great annoyance to those of us who do IA|||@Darth Alpha  I would never claim it to be healthy either. Just in my best interest.|||On loyalty:  I am loyal to the vision. I am loyal to those who share the vision. I am not into co-dependency in terms of the vision cannot be accomplished without others involved. I stay on course,...|||Your answer was worth more time to entertain than the OP.|||Hey @MsBossyPants are you down for a debate on Ayn Rand vs Marx? Maybe we should talk about our poor Fi? Oh I know- let's try to correlate testing ENTJ with being sociopathic.  :laughing:|||Hitler was no exception- this concept has, is and always will be a principle, tenet, and rule. Politics, ideology, religion, eating, shitting usual.  And if it's not ,then there is nothing to...|||Hitler thought he was doing great things. Stalin thought he was justified. These guys thought they were uncorrupt. They viewed any heretic to their dogmas as morally bankrupt, and so did many of...|||Meh. There were plenty of evil people who did good things, and plenty of good people who got blood on their hands achieving and attaining higher goals. Bad situations that had good long term effects,...|||You would have to ask the OP. He is asking ambiguous questions. I would go with whatever is more efficient/effective vs what is perceived as good every time in the good vs evil dichotomy. It in my...|||Good vs Bad =/= Good vs Evil One is an objective positive vs negative dichotomy, the other is a subjective interpretation of characteristics.   NameUser  So to be evil may be a better solution and...|||I think they are for sure idiots, but I also think these people went out of their way to fuck their lives up. Did they expose themselves on the internet? Yes. Does this warrant or validate a reason...|||I really REEEEEEAAALLLY hate rigidly PC thumb sucking nanny bitches. They remind me of five year olds who are trying too hard to gain their parents approval by taddling. These are the same people,...|||I think people need to get some skin. Even if these people are wrong or racist. That's just a waste of time, energy, and resources. These people end up being the focus for being petty and overboard...|||http://www.penciltribe.com/cms/wp-content/uploads/2013/04/Brian_snowflake-300x225.jpg|||http://www.penciltribe.com/cms/wp-content/uploads/2013/04/Brian_snowflake-300x225.jpg|||I'm not trying to be condescending when I tell you- all those things you have mentioned people saying and have written off as all I have been met with are legit arguments. They don't need to be...|||The brevity of my posts is because you don't take much to refute. Just because you aren't acknowledging what people are saying doesn't mean they are saying nothing.'\n",
      "'18/37 @.@|||Science  is not perfect. No scientist claims that it is, or that scientific  information will not be revised as we discover new things.  Rational  thinking has been very useful to our society....|||INFP- Edgar Allen Poe was an INFP and he's in your siggy.|||People see the obvious Fi and are quick to put her as INFP. I agree that she has no Ne. I see her as an ISFP. Compare her to Haku (definite INFP). She is flat through most of Naruto.. but I don't...|||Lets get this party started  66314|||I did not say it disproved God. I merely said that I found such methods disturbing. Although, it does bring up certain questions. God is in control of the universe, and the governments of the world,...|||Surprisingly, I could not find a thread about this on perc even with Google. So, here you go.  Watch Jesus Camp online - Watch Movies Online, Full Movies, Download  I was disturbed watching this...|||A metaphysical gun (Hell) held to someone's head can be just as effective as an actual gun.  Do you not find these methods disturbing? Watch Jesus Camp online - Watch Movies Online, Full Movies,...|||Unstable is not the right word. We are usually pretty emotionally flat-lined. But, when we do have to deal with our own emotions we can be very bad at it. In high school my feelings of attraction...|||Well, I went to someone's wedding and dipped everything in the chocolate fountain and ate it. I dipped the fruit, the fish, and even the Hershey's kisses. And I drank two little jars of honey they...|||That post you  quoted was from two and a half years ago. Since then, I've come to a better explanation.  INTPs may not be as externally certain as INTJs, but they are more certain internally. They...|||This is how I deal with the INFP I'm in a relationship with.  I am often tempted to avoid hurting them even if it means fudging the truth, telling them only what they want to hear. If I do that, it...|||Never heard of it till now. I watch a loooot of anime, but I get it from animedreaming.tv mostly; I am not a member of any anime board.|||The legs are nice, but her expression is all wrong. That is not her private sad face; I don't know what it is. See, I have her evil grin <B|||Kokiri Connect. Becuase I couldn't rememeber how to spell Kokoro Connect so I let Google do it.|||Inaba from Kokoro Connect. Because I relate to her and I enjoy looking at her (I have to look at my avatar alot).|||I'd like to see someone react when they are told they have   hippopotomonstrosesquipedaliophobia.|||She doesn't trust you or respect you. A break would be good to test if she will change. If she doesn't, you have to think about what will make you happy in the long term. Next time, establish ground...|||I don't think any INTJ is not going to do this if they have a choice. Though, until I got the internet in my late teens I didn't explore many subjects I was interested in in depth. Of course, it...|||No, I don't smoke. I have an addictive personality, and I don't think I would be able to stop if I started.|||Destroying his reputation by revealing what he has done could cause him to lose a lot of power... but if people knew things he had done, a certain person would kill him and end up in jail.   There...|||People like people like themselves; this is the number 1 indicator of attraction. Seeing as most people are sensors it is not surprising that they do not care for my personality.  Woman have...|||My best friend is an INTJ. We have so much in common even for two INTJs; she understands me better than anyone. It took a loooong time for us to become close. We put up a lot of barriers.  I get...|||I can tell you about a sociopath I know in real life. Not an INTJ, an ENTP or INTP.  -Tells all his problems to people shortly after meeting them to attempt to gain their sympathy so they can be...|||Light (at least in the beggning) and Lelouch did ultimately have good goals, even if their methods were evil.  Lelouch did seem to feel remorse at times; a sociopath would never consider taking...|||Nobody panics when things go  according to plan. Even if the plan is horrifying. If tomorrow I tell  the press that like a gang banger, will get shot, or a truckload of  soldiers will be blown up,...|||1. Code Geass  2. Steins; Gate (It was hardest to pick between this and Geass, but I  think Geass just barely beats it. I will say it is very slow in the  beginning, but everything that happens in...|||Looking back at this post from 2.5 years ago... Emil, Asahina, and Hinata are actually ISFPs. Maybe Kimmimaro and Alphonse as well.  I really don't know Li Xingke's type... its been awhile since I...|||Focus on learning the system, and the details should fall into place as you go along. For example, learning C++, I read about how it worked, then wrote some programs and only bothered figuring out...|||glad you recognize my username.   Yes, until you said INFJ (that type uses Fe/Ti). The four types that use (Fi&Te)/(Te&Fi) are in my previous post.|||INFP- Going out with one now. We don't understand each other in some ways (though understanding is a lot better than most type matches), but we challenge each other and help each other grow. We have...|||Welcome. Now bring me some Pizza.   Actually, that could happen to me after I'm done with my English degree XD|||You need to think about the reasons for what you want and about how realistic each of your goals are. Maybe one is more of a fantasy and one is actually worthwhile? That's what I would do anyway,...|||What my previous post said was: you seem like a dominant Fi. Do you do all this Ne thing or this FiNe thing. Put into terms that the OP understands.   The 8 letters are intended to be shorthand for...|||You seem like an obvious I, F, and P. INFP is the strongest possibility. Possibly ISFP, though. How do you brainstorm? Do you overthink things?|||Combining your anxiety and avoidance scores, you fall      into the secure quadrant.  Previous research on attachment styles indicates that     secure people tend to have relatively enduring and...|||I don't think you can simply reach into your mind anytime to tell if you love someone.   Perhaps you have fantasized for a long time and expect a real relationship to be like that in some ways. But...|||I don't think its impossible to doublethink, only impossible to remain in that state (which could explain why oceania fell after the end).  The hard atheists I do not disagree with. Anyway,...|||Cows are a religious subject (Hindu) XD   If the denial of a religion is a religion, then most or all of us here are ascientologists, for example. Most everyone would have, what? at least thousands...|||By that definition anything could be defined as a religion by attaching the suffix -ism... and then the word religion loses its meaning. I would say that religion has both a precise and general...|||There are no practices required to be an atheist. All that is required is a disbelief in deities. Other than that, atheists can have widely different beliefs. It is too general a term to be called a...|||My guess is ENTP, though it is hard to say just from this.  Have you studied up on cognitive functions? If not, learning how each works and identifying which ones you use would be very helpful.|||I believe it has gone  through too many human hands to be thought of wholly as the word of God  (or to be followed unquestionably). Yes, most useful when thought of as  a text by man about God.  ...|||Apparently, you need to pose as a gay guy to pick up women.  But, seriously. Its 2012. You have a world of media at your fingertips. In a poll that appears to be from eHarmony (though it is...|||We are playing a game called Mafia. We have to vote on who to kill for this round, who we think is part of the Mafia. Rob (names made up) says, kill Joe.  I suggest killing Rob. Rob says, Don't...|||what you need to know as an INTJ fiction writer: http://phantomshine.blogspot.com/2012/05/writer-analysis-through-mbti.html   I grow tedious of gratuitous visual details... though, images are...|||Bolded are ones I actually live with.  Mother- ISFJ Father- ISTJ Sister- ISTP Half-Sister- ESFJ? Grand-mother (mother's side)- ENFP Step-brother-ESFP Step-father- ESFP?|||Very interesting. Explains why these two types often see each other as close-minded or arrogant.|||There are as many INTJs as there needs to be. If everyone is a leader, who is going to follow? And who is going to take the jobs that no intuitive would want? There is a part in Brave New World where...|||Mm, probably INTP now that I have become more familiar with that type.'\n",
      "'No, I can't draw on my own nails (haha). Those were done by professionals on my nails. And yes, those are all gel.  You mean those you posted were done by yourself on your own nails? Awesome!|||Probably the Electronic Screen Syndrome. With the advent of technology and social media, we all suffer from overstimulation on a daily basis. I'm guilty as well. In the past, I can be happy just...|||I love nail arts too! These are some of mine:  718282 718290 718298 718306 718314|||This is the first time I'm hearing this - about menstruation and church. Thanks for sharing but yeah, it's crazy. I thought only Taoists have such a belief.|||Dear very bad person,  Not trying to get in between your arguments but I'm copying down that sentence for future use. :tongue:|||*Speaking from a bomb shelter*  So which Christian values do you still hold? I agree that people can still be good in the absence of religion and people also do bad in the name of religion but the...|||I never really thought about my childhood experiences until I was much older when my brothers and I talked about the past and we all agreed that we had suffered physical and verbal abuse. It wasn't...|||My ISFJ friend almost always instantly shuts down and becomes upset whenever someone disagrees with her POV or the way she does things. She can't seem to understand why a certain behaviour, though...|||These two questions seem unrelated.   If people know my real thoughts, they may or may not like me better, it depends on whether they like my thoughts to begin with. I have bad thoughts but some...|||BS？I don't BS.|||I think INFJs sometimes need to be kicked out of our comfort zones, for the sake of our emotional wellbeing.    -- I can relate to this and it actually helps when friends pull me out of my rut. I...|||Haha... sorry if I offended anyone. I don't mean for this to be a dirty jokes thread. I've amended the original.  That was a funny one you shared, btw. I recalled a similar situation which...|||LOL, can I pay that in instalments?|||Yes, and this is a double edged sword. I think mental health awareness and education are important, and what's more important is people need to know where to get help. On the flip side, I'm also...|||Haha, hopefully? :proud:|||I'm not calling out recent posts specifically, just the general overall. Some posts may have been made several years ago but their remarks still stand.|||I'm creating this as a stress-reliever as I think all of us can use a good laugh once in awhile... :tongue:    Perhaps I'll start off with this funny conversation between two friends who were...|||I have a thinking... that many INFJs think they suffer from trauma but a lot times it's actually just us torturing ourselves in our minds because we're so good at that.     I talk it out with...|||So many stereotypical statements here. The way you guys describe the girly girls are like a princess. Pls label them as princess instead.|||Mental health is such a in-thing nowadays a lot of people are slapping labels on themselves to look cool. I'm not saying all of you are doing that... I'm just saying don't do that.|||Researchers are always coming up with new studies and BBC is hardly a reliable source. Even if you identify with a few symptoms on the checklist, it doesn't necessarily make you a psychopath. It's...|||I think this sucks and you have my sympathy. Personally, I hate it when a guy dumps me for another gal and then tells me he wishes me happiness when he's the exact source of my unhappiness. Don't buy...|||EveJ, I agree with the INTJ who says other people's expectations are other people's problems. I'm quite sick of meeting people's expectations simply because they feel entitled. The truth is, when the...|||Ashton Vern This may help you further - https://thoughtcatalog.com/heidi-priebe/2015/07/how-to-recognize-each-myers-briggs-personality-type-in-real-life/|||Only once. I confessed to him. He loves me back. We were together for 7yrs, then we broke up. :crying:  Unbreak my heart, pls.|||fabi, OMG, I finally found someone who also love these morbid subjects! :blushed:  I don't know if this is caused by Ni-Ti and if other INFJs also generally love such topics because my INFJ friend...|||Green, orange, white, yellow or red?|||I must say that this is by far the first religious thread I've read that didn't erupt into a war (lol) :joyous: so I feel safe posting here. I grew up as an atheist and later became a believer of God...|||Above ground or underground?|||What I mean by realistic is when we use Ti to analyse a situation. When I get into high Ti mode, I can really zoom in on the facts and question everything that's happening - happening in real life,...|||xtctr Have you done a MBTI test or you just think you're an INFJ because you feel lonely? Because you said you didn't feel this way up until this year...  So why is it that you suddenly feel...|||For I know the plans I have for you, declares the Lord,  plans to prosper you and not to harm you,  plans to give you hope and a future.  - Jeremiah 29:11|||I don't think trauma makes an INFJ or all INFJs must have experienced trauma. This is like saying other types don't experience traumas and it sounds rather snobbish.  When we experience trauma, we...|||You're right that INFJs can be very idealistic, but those with a strong Ti can also be very realistic as well, especially if we go into Ti overdrive.     After reading this, I still don't think...|||Hi Ashton Vern I doubt your friends are INFJs. See my point-by-point below...  -------------------------------------- Characteristics of Friend A: - very friendly and caring. She cares for her...|||Transition. Anxiety. Prayers.|||https://www.youtube.com/watch?v=tuunqfdz388|||IDontKnowMe  When did you have your first relationship (<20, 20-25, 26-30, >30)? <20  What do you look for in a partner?I like guys with boyish good looks, :wink: with a good heart and good...|||I want people to understand me but I won't bother telling them my type because most of the people around me don't seem too bothered with MBTI. :dry:|||Comfortably 2 hrs, maximum 3 hrs and then the full army of Ni barges in and I'm not paying attention anymore. Depends on how interesting the conversation is... shut down can happen earlier.|||Gotterdammerung  My brother had night terrors when he was young. He would wake up EVERY NIGHT at the EXACT SAME TIME and cried about someone trying to catch him. It was traumatising just watching...|||There was a period I had dreams of ghosts and when I woke up in paralysis mode I saw them in my room/outside my window. Another time I dream of a ghost in my room and then my spirit self saw myself...|||Yes, I also read that everyone dreams. At one time I did quite a bit of research on dreams because I was dreaming so much and some were rather supernatural.     Lucid dreaming is interesting but...|||More or less... but what I don't fit is some people think INFJs will never go to a club or anywhere noisy. This is untrue of me. I love music festivals, concerts, dancing to my favourite songs in a...|||How do you lucid dream on purpose?|||I like all the badass quotes:  712170  712178  712186  712194|||It is said that the INFJ minds don't switch off. I believe mine doesn't switch off even when I sleep which is why I'm such a prolific dreamer. My dreams are also often vivid, prophetic or sometimes...|||Emotional connection to me is to be able to relate our feelings (sadness, anger, joy, love) with one another. Sometimes I can feel an instant emotional connection with a friend over a particular...|||Not very good at doing romantic things... perhaps the most romantic thing I've done is folding a bottle of wishing stars for my boyfriend?|||Are you collecting MBTI types? LOL  Perhaps you can learn to spot them:  1. The one sitting in a crowded room quietly but observing everyone like a hawk (or creep). :ninja: 2. The one who looks...'\n",
      "'I tend to build up a collection of things on my desktop that i use frequently and then move them into a folder called  'Everything' from there it get sorted into type and sub type|||i ike to collect odd objects, even at work...a lot of people would call it junk but i like to collect it.  Old unused software? ill take that off your hands :) i have a bunch of old adobe...|||i think its quite normal, i tend to only see my friends in real life every couple of months, as said earlier some people just dont get it but the good ones do :)  Edit: i mostly mean tolerate it...|||where do we go when we sleep? is dreaming another form of being awake? how many more layers of this are there if any?   thoughts about sleep keep me up at night  Edit: sometimes im too scared...|||thanks|||i wish i was free to follow my interests as i desired  i feel as though wishes are meant for impossible things|||by seeing do you mean visual interpreting or seeing as in mentally understanding the concept?|||hello|||i feel as though i am incapable of creating anything   and i wish i could|||i cant stand the interviewer christ that laugh...  is he intj? hmmm  it would be interesting to see an intj on this show, i doubt they would be that interesting to the general public though ...|||know yourself and be yourself|||Do you think Fi or Fe sounds more like me?  which one do you think sounds like you?  Why do you require input from others to know what you are?|||Question: do INTJs lean more towards Alternative Rock then other types of music? And if so, why?   My Answer: well, if you went through all the pages and then sorted all the songs by genre/style...|||sometimes i look at people and i see them , well on the outside at least, doing all these things and saying all these words and i wonder what it would be like to act that way... am i missing out on...|||a lounge huh? what does one do in a lounge?  or is it best not to define it and just enjoy it as is?|||Do it|||went on holiday for just over a month, thought things would change. How naive of me..  feels nice to browse back on this forum here though, its been a while since i surrounded myself with somewhat...|||yes i would say i am, more than physical appearance to an certain degree.  what are they? i am unsure they just generally cant be a terrible person by my standards|||i like to lurk, in my case at least its mostly because i tend to believe i have nothing interesting to contribute to the conversation so why add anything?  logging out to purposely lurk seems like...|||i think id wait for him to swing first before taking further action but i would not  encourage them to take a swing  a part of me wants to fight him though...|||would you say there is complexity in simplicity?|||I normally vote for whoever amuses me the most..  perhaps one day i'll care more  Edit: other than what amuses me at the time, ill vote for whatever would apparently benefit me the most....|||long distance is hard|||INTJ's and what effects their sanity levels  Mental illness|||So i think about which thoughts i wish to express in written format, then i proceed to perform the physical movements necessary to express the required thoughts in whichever medium is required or...|||651762 i got this, seems right to me. I always score intj, extra heavy on the introversion :3|||I like this  https://www.youtube.com/watch?v=e4dT8FJ2GE0  I like the sound, the content/lyrics are not too important, the sound is what i value most. Is it my favourite? probably not, i heard...|||to others maybe, although internally i am acutely aware of any mistakes i have made|||assuming they would listen to me, i would each give them a solo task that leads to the successful completion of the project  how would i make them listen to me? explain that the success of the...|||i am a fan of the idea that a celestial being died and its essence became everything we know, what kind of sacrifice would have to be made to create such wondrous things? (stars, planets, cosmic...|||Nah|||1) Since when do you need a manager present to make returns?? or was it because I work there? - check the company policy on this 2) Why did they want to save my receipt? -not sure, perhaps to...|||i remember my first encounter with this type of music was BOA - Hurricane Venus, saw it played on a starcraft 2 stream round 201011 or something and was kinda hooked. Don't follow/watch it much...|||what happens when this riddle gets solved? what use is this information?   haha i am clearly not a fan of riddles  Edit thoughts: Girlfriend asked me a few riddles and it was infuriating for...|||i kept pressing them to talk about something they didnt want to, i regret it deeply|||It is not hands that summon us. It is desire.  I want nothing to do with that puzzle box. Nope. Nope. Nope|||i used to think life was dull and everything was boring, then i realised that i havent actually done everything so it felt incorrect in thinking that way|||ahh yes the pain of living, its beautiful isnt it?|||i got   Your score for openness was 70%. This is in the moderate range. Your score for conscientiousness was low, at 35%. Your score for Extraversion was low, at 15%. Your score for...|||What do you mean by humanities? i like to think about the direction of the human race as a species and i like to appreciate where weve come from so i guess i love humanities?|||1. Attempt to think less about things 2. Be more decisive and confident in my decisions/thoughts (i cant help but play devils advocate with myself, i guess this ties into number 1) 3. change my...|||Ahh yes that sinking feeling when something goes incredibly wrong or not to plan. How do i get over it? embrace the madness, how are you going to deal with your scenario now with all these new...|||I like to imagine it kinda like this 629346  except the ring is a billion times higher and nearly impossible to scale and then in the middle is a beautiful garden and house where i like to chill....|||if you look at the first sentence of most of them you can gather the feeling they are trying to portray, followed by a rather nice scenario.  So yes i do feel those feels, but not for those...|||I think its the introversion crossed with the feels that does it for me.|||first encountered mbti?  hmm was a personality test i took in highschool, didnt care or even pay attention to it until later. stumbled upon it somehow and was interested  Im not too into it as...|||Treat Yo Self|||Question: Can INTJs be try-hards?  Answer: sure|||No im not, our values of friendship are clearly different. An emotional investment of any kind is a big deal to me, a HUGE deal, to have it not appreciated and/or reciprocated is soul destroying. ...|||petty? perhaps, but why bother with someone who isnt going to give me what i want when i can just move on? what a waste of my time and emotional energy.  Hopefully for you this friend of yours is...'\n",
      "I'm not sure, that's a good question. The distinction between the two is so dependant on perception. To quote Robb Flynn, ''The hate you feel is nothing more, than love you feel to win this war.''|||Good question! It's tough to say for sure but I loved Winona Ryder as Lydia in Beetlejuice...  http://i63.photobucket.com/albums/h158/trinsghost/Misc-Images/2921aa070866f20450f8e1160b1e5d41.jpg|||https://www.youtube.com/watch?v=r5If816MhoU|||https://www.youtube.com/watch?v=Q-sQklvpDhA|||I've been lonely for much of my time. For a while now I've been working on changing ''how to think'', and one way is trying to find the positive in everything, no matter how bleak it might seem. I...|||I hope I can look back at this current stretch of time and think, ''Thank God I'm not there anymore and things are so much better''. What an ass-kickin' I'm taking.|||Help or a voice of reason, other than my own distorted, in my life. I'm completely frusterated and feel like I'm on the brink. I'm carrying the weight of everything negative I've ever had in my life...|||Think I posted this before but I'm still feelin' it....   https://www.youtube.com/watch?v=Cu8qsC1WLiE|||Fleeting thoughts of acknowledging and getting lost in the depth love that we share for one another. It could be the most mundane thing but every now and the simplest act will make me appreciate the...|||https://www.youtube.com/watch?v=pULe7-6yRo4|||I've been told that I'm OCD and I'm aware of it. For me it's more than just obsessive cleaning and things of that nature. I've come to understand how it affects things such as obsessing on a thought...|||https://www.youtube.com/watch?v=XkbQDChgmX8|||I'm working on a song I've been trying to learn for just about a year. Was hoping to finish it before the New Year but still have a ways to go.|||Sons of Anarchy is the first TV series I've followed since The X-Files WAY back in the day.|||https://www.youtube.com/watch?v=2R2NrV4ve1o|||Fleeting|||I'm not a big book person but every now and then I go through stages and force myself to read more than I normally do. One book that always stands out in terms of interest while reading was ''Venus...|||https://www.youtube.com/watch?v=9utPTpXpIgE|||Frustration got the best of me today, and has been a lot lately. Having a couple Heinekens right now and feel a bit better. :) This is a difficult time, and is going to be for a bit, gotta maintain.|||Find balance, get more in harmony with life and position myself to capitalize on any opportunity that presents itself. Within that lies the path to a more fulfilled life, at least I'm hoping. ;)|||https://www.youtube.com/watch?v=RoL0nRuHj0I|||I'm not a touchy-feely person and don't care for folks I don't know feeling up on me. My response depends greatly on the person doing it. Some people are just naturally affectionate and it's their...|||https://www.youtube.com/watch?v=oYZh9yQu1fo|||https://www.youtube.com/watch?v=d5abdXpvBR0  ...Very frusterated, wrestling with thought, and not winning.|||Escape From Alcatraz|||https://www.youtube.com/watch?v=u8lOTMMRJZg|||https://www.youtube.com/watch?v=-ls5mug1_KU|||I'm grateful to still have a little time to make good of all the things I've learned the hard way through countless mistakes and wrong turns.|||https://www.youtube.com/watch?v=ff_6BF37fI0|||A great song to start the day...   https://www.youtube.com/watch?v=YnHaYVYFTU8|||Joints hurt a little, other than that I feel the same old usual indifference. :P|||An early 90's style Ford Mustang GT with the more square body. In all reality, one can be found for a few thousand dollars which makes this dream car very attainable. :)|||http://www.youtube.com/watch?v=Cu8qsC1WLiE|||It was kind of intended to have a dark, terrible to feel about it. Depression has many depths, and those levels vary from person to person. I've dealt with serious depression my whole life and it...|||http://www.youtube.com/watch?v=QnRkiAK_gZc|||http://www.youtube.com/watch?v=66Vc-2CS4ew|||Comfort food - Pizza and chicken wings, cheesecake or pumpkin pie  Comfort drink - Redbull, Guinness or Red Wine|||Still grinding out this song on guitar, it's coming along but slowly and most certainly not easily.|||Some vague advice I can give is this, it can always be worse and in most cases it probably will be someday. So it works to look at any current situation like this, it helps to appreciate what you...|||Content, not happy but more content than I've been in a while, a LONG f'n while. I'll take it.|||For breakfast I had a piece of grilled chicken and a Guinness.|||-Seven -The Decent -Rocky -Heat -Silence of the Lambs|||http://www.youtube.com/watch?v=gvYm6kVY2IE|||Robb Flynn of Machine Head, Michael Amott of Arch Enemy, Jerry Cantrell of AIC.  Edit: Forgot to include Zakk Wylde, a musical genius.|||Pucca...That shirt could be a lot of fun indeed. :)|||....Watching a video of Megadeth live on the Big Four Tour.|||http://www.youtube.com/watch?v=2XhGQisD040|||JungleDisco...Takin' it back with Silk. Great Stuff.   http://www.youtube.com/watch?v=9uhLDWCqSQQ|||Rockin' some Down right now.....   http://www.youtube.com/watch?v=aKfmYGlhWWk|||....I currently desire for July 20th to roll around so I can finally see Machine Head live at this years Mayhem Festival. F**k yeah.    http://www.youtube.com/watch?v=lK588zl0l2M\n",
      "'https://www.youtube.com/watch?v=w8-egj0y8Qs|||I'm in this position where I have to actually let go of the person, due to a various reasons. Unfortunately I'm having trouble mustering enough strength to actually pull through it. Sometimes,...|||WHAT A YEAR, MAN. WHAT A YEAR.   I am just utterly bewildered with my 20s at this point.|||my laundry. as long as i've got clothes left to wear i'm fine.  and then the time comes that i DO run out, and i'm left to contend with The Mountain that is my laundry pile.  Sent from my Apollo...|||http://www.youtube.com/watch?v=Xyix3xdRd3Y|||going back to the office in a few hours. back to being dumbstruck and confused by your presence, back to being on the edge 90% of the time, back to feeling duplicitous, and hopelessly despicable,...|||i followed Scott Disick on instagram and so far i'm not regretting it lol. douchebags amuse me to no end.  Sent from my Apollo using Tapatalk|||you are SO quiet! you have beautiful hair. you're too damn logical, i like it. you make me feel like a lesbian at times|||i miss the beach so badly, that vacation was definitely not enough. i don't want to work yet i need a longer breather i wanna go baaaaaaaaccckkkk|||i've waited so agonizingly long for this moment and now that the chance is here my indecision and procrastination has decided to present their Amazing Super Powers in the worst way possible.   i...|||do i text her or not do i text her or not do i text her or not do i text her or not do i text her or not   do or do not. there is no think|||Natalie Dormer literally looks like a cat sometimes.|||i find scars fascinating to be honest. our bodies' own version of short stories. i have a nice collection myself, mostly from bike accidents when i was a kid.|||that would make quite an awesome scar though. i hope it doesnt hurt too much.|||galumphing on the net, drowning myself in music, relationship issues, overthinking in general + i feel fine/nothing|||http://www.youtube.com/watch?v=Y4cxaVEqZsE  apart from the hardcore yeehaw country songs, i absolutely love True Detective's soundtracks.|||i feel like i want to just eff it all up and break up with my SO just because i'm too distracted with this other person right now. i cannot stomach my own burgeoning dishonesty.|||lol. my SO always seems unnerved by that look. he's commented before that i look like i'm planning a murder in my head or envisioning the edges of the matrix, when i was really only calculating the...|||most social media words like trending, viral and selfie  whenever i hear those words i suddenly transform into this barmy-old luddite codger and bemoan how excruciatingly vacuous and fleeting...|||i cannot remember the last time i was this attracted to anyone and it absolutely terrifies me; how i lose concentration, how everything is heightened by the sense of your presence, how every possible...|||http://www.youtube.com/watch?v=j9rIHPvm5c0|||or sometimes, just dispense with the apologetic message altogether. i find that goodbye to be more effective, though i have no idea how many lives i've managed to ruin in that process :mellow:   ...|||http://www.youtube.com/watch?v=pM_Q-G_CZ74|||i can be so damn full of sh!t sometimes.|||this. oh my god. it just can't be helped. whenever i'm sitting in a relaxed position tapping a beat just happens automatically, and my patterns tend to reflect whatever mood the immediate surrounding...|||sometimes patience really is a curse.|||i've learned to control my disdain for such types, since my job involves me explaining things all day round to people with absolute-zero comprehension, requiring inhuman levels of patience. what...|||sometimes it just makes so much sense, it scares me.|||ohhh i'm with Emma on this one. she pushed the song so hard i actually ended up youtubing the entire thing, only to realize i like her lipsync version better :kitteh:|||life would be so damn easier if we all harbored ESTPs in our heads and would let them out whenever there's a social situation. i cannot count the number of times i froze out of a conversation i...|||i wish the whole MBTI system had some sort of vitamin-juice merchandise going on, like an inversed polyjuice potion wherein it'll be your attitude to change, not your facial countenance.     god...|||ikr! i hope they play with it more, i wouldn't even be against it if they turned it into a full fledged movie. although if ever they do, i hope they don't blow it all out of proportion.|||stepping on dry leaves and hearing the crunch cup of coffee while browsing the internet the latest episode of your favourite tv show finally uploaded in torrent the fresh feeling after taking a...|||oh god this show was so, so good. one of the best sci-fi shows to date. i love how the writers seem to backstab technology by emphasizing the repercussions of having said advancement. and i'm still...|||http://www.youtube.com/watch?v=6XXfqPRG4TQ|||Orphan Black, people. Orphan Black.  season 2 just started last night, and there are only 10 episodes from season1 to catch up on. i binged it last summer and it ruined my life.  the lead actress...|||considering going back to tumblr just to be up to date with all the Orphan Black posts.   how can i be so obsessed with a damn tv show???|||default feeling: i feel fine/nothing.  althought if you can equate contentment to being happy, then yes, i am happy sometimes. but it never really lasts.    lol INTPs are such a cheerful bunch|||you need to be very patient with INTPs, so just stay put. most likely she's still rationalizing her feelings for you, which is normal INTP thought-(feeling)-process, hence the confusing interactions....|||i prefer anything mystery or with a sci-fi undertone, dark films with plenty of things to mull about. i will watch anything by Nolan, Haneke, Almodovar or Fincher. as a rule i avoid action films and...|||http://www.youtube.com/watch?v=mqGhSR0z1fw  right now she's got to be one of the most judged artists in the pop scene, what with her gloomy look and fashion association and drug problems. i just...|||my 6 year old niece always says the most absurd things like she's some hipster on an acid trip:  i want flying bread it tastes like atmosphere *random japanese-sounding words to assimilate an...|||^ the series does require patience, but i suggest you try stick to it as much as you can because the pay-off is immense. or, watch the show to help you understand the plot better. the books can be...|||at this point if walking away from a person is the basis of excellent social interaction, then i'd be a damn socialite.|||from my point of view, for us INTPs love is like a faucet, it won't shut  off until you actually turn off the tap. so no matter the circumstance,  if he loves you still, then taking your time with...|||i had the same exact moment like this last year, when the faking it part just became a bit too much to stomach.   right now i'm in a well-paying job, have my own place, live independently and...|||when someone takes way too long to explain their damn point.|||what house are you? Targaryen  who's your favorite character? the Lannister men (Tywin, Tyrion and Jaime), Daenerys Stormborn, Arya Stark  best storyline? Dany of course. who can beat rearing...|||i suck at math but i'm great at English. words make more sense to me than numbers, unfortunately. thank god my brain compensated.|||definitely Walter White, your most relatable tv psychopath. i'm in awe and at the same time horried of his whole progression from boring old chemistry teacher to master manipulator devil incarnate. i...'\n"
     ]
    }
   ],
   "source": [
    "posts = df['posts']\n",
    "for i in range(10):\n",
    "    print(posts[i])"
   ]
  },
  {
   "cell_type": "code",
   "execution_count": 67,
   "metadata": {
    "colab": {
     "base_uri": "https://localhost:8080/"
    },
    "id": "UaDdROHiS2YA",
    "outputId": "7e7b8bc2-874b-40f9-9419-7068dc68b2bd"
   },
   "outputs": [
    {
     "name": "stdout",
     "output_type": "stream",
     "text": [
      "[0 1 0 ... 0 0 0]\n"
     ]
    }
   ],
   "source": [
    "# Labels for introversion vs extraversion\n",
    "first_dimension = df['Personality-1']\n",
    "# The model can't predict a float from a char, so we replace the I with 0 and E with 1\n",
    "# I couldn't do this in place for some reason so i made a new array. This runtime is pretty shit cuz of append\n",
    "\n",
    "# Make this np.zeros_lke first dim to fix runtime (?)\n",
    "first_dim = []\n",
    "\n",
    "for idx, letter in enumerate(first_dimension):\n",
    "    if letter is 'I':\n",
    "        first_dim.append(0)\n",
    "    else:\n",
    "        first_dim.append(1)\n",
    "\n",
    "first_dim = np.array(first_dim)\n",
    "print(first_dim)"
   ]
  },
  {
   "cell_type": "code",
   "execution_count": 68,
   "metadata": {
    "colab": {
     "base_uri": "https://localhost:8080/"
    },
    "id": "HmeDcYQsH8Jd",
    "outputId": "4b3a8878-f7b5-4b10-c2bc-b3070a11dc3d"
   },
   "outputs": [
    {
     "name": "stdout",
     "output_type": "stream",
     "text": [
      "[4 2 3 ... 3 5 5]\n"
     ]
    }
   ],
   "source": [
    "full_type_labels = df['type']\n",
    "# Enumerating the personality types so that our model can work with numbers\n",
    "personality_dict = {\"ENTJ\" : 0, \"INTJ\" : 1, \"ENTP\" : 2, \"INTP\" : 3, \"INFJ\" : 4, \"INFP\" : 5, \"ENFJ\" : 6 , \n",
    "                    \"ENFP\" : 7, \"ESTP\" : 8, \"ESTJ\" : 9, \"ISTP\" : 10, \"ISTJ\" : 11, \"ISFJ\" : 12, \"ISFP\" : 13, \n",
    "                    \"ESFJ\" : 14, \"ESFP\" : 15}\n",
    "\n",
    "type_labels = []\n",
    "\n",
    "# Go through the array and turn the personality type into its corresponding number\n",
    "for idx, personality in enumerate(full_type_labels):\n",
    "    type_labels.append(personality_dict[personality])\n",
    "\n",
    "type_labels = np.array(type_labels)\n",
    "\n",
    "print(type_labels)\n",
    "# print(full_type_labels)\n"
   ]
  },
  {
   "cell_type": "code",
   "execution_count": null,
   "metadata": {
    "id": "3ksc7-r5nDNh"
   },
   "outputs": [],
   "source": [
    "###\n",
    "#   Commenting out this whole block for now because it only predicts one letter\n",
    "#\n",
    "####\n",
    "\n",
    "# import tensorflow as tf\n",
    "# from tensorflow import keras\n",
    "# from tensorflow.keras.preprocessing.text import Tokenizer\n",
    "# from tensorflow.keras.preprocessing.sequence import pad_sequences\n",
    "\n",
    "# # Only considering the top 10000 most common words\n",
    "# vocab_size = 10000\n",
    "# max_length = 2016\n",
    "# # We have 8675 rows\n",
    "# training_size = 8675//2\n",
    "# training_posts = posts[0:training_size]\n",
    "# testing_posts = posts[training_size:]\n",
    "# # Right now is only predicting introversion or extroversion\n",
    "# training_labels = first_dim[0:training_size]\n",
    "# testing_labels = first_dim[training_size:]\n",
    "\n",
    "# # We only want to fit the tokenizer on the training, not the testing\n",
    "# tokenizer = Tokenizer(num_words = vocab_size, oov_token = \"<OOV>\")\n",
    "# tokenizer.fit_on_texts(training_posts)\n",
    "\n",
    "# word_index = tokenizer.word_index\n",
    "\n",
    "# # Puts the padding (which are 0) at the end of the vectorized sentence.\n",
    "# # The longest post in our dataset is 2016, but we should truncate='post earlier than 2016 words\n",
    "# training_sequences = tokenizer.texts_to_sequences(training_posts)\n",
    "# training_padded = pad_sequences(training_sequences, padding = 'post', maxlen = max_length)\n",
    "# # training_sequences = np.array(training_sequences)\n",
    "# training_padded = np.array(training_padded)\n",
    "\n",
    "# testing_sequences = tokenizer.texts_to_sequences(testing_posts)\n",
    "# testing_padded = pad_sequences(testing_sequences, padding = 'post', maxlen=max_length)\n",
    "# # testing_sequences = np.array(testing_sequences)\n",
    "# training_padded = np.array(training_padded)\n",
    "\n",
    "\n",
    "# print(word_index)\n",
    "# print(training_padded[0])\n",
    "# print(training_padded.shape)"
   ]
  },
  {
   "cell_type": "code",
   "execution_count": 69,
   "metadata": {
    "colab": {
     "base_uri": "https://localhost:8080/"
    },
    "id": "50LEptZFKXl6",
    "outputId": "566e4359-729c-4d9b-9f93-8d0e8e1f7858"
   },
   "outputs": [
    {
     "ename": "ModuleNotFoundError",
     "evalue": "No module named 'tensorflow'",
     "output_type": "error",
     "traceback": [
      "\u001b[0;31m---------------------------------------------------------------------------\u001b[0m",
      "\u001b[0;31mModuleNotFoundError\u001b[0m                       Traceback (most recent call last)",
      "\u001b[0;32m<ipython-input-69-95162bc4e461>\u001b[0m in \u001b[0;36m<module>\u001b[0;34m\u001b[0m\n\u001b[0;32m----> 1\u001b[0;31m \u001b[0;32mimport\u001b[0m \u001b[0mtensorflow\u001b[0m \u001b[0;32mas\u001b[0m \u001b[0mtf\u001b[0m\u001b[0;34m\u001b[0m\u001b[0;34m\u001b[0m\u001b[0m\n\u001b[0m\u001b[1;32m      2\u001b[0m \u001b[0;32mfrom\u001b[0m \u001b[0mtensorflow\u001b[0m \u001b[0;32mimport\u001b[0m \u001b[0mkeras\u001b[0m\u001b[0;34m\u001b[0m\u001b[0;34m\u001b[0m\u001b[0m\n\u001b[1;32m      3\u001b[0m \u001b[0;32mfrom\u001b[0m \u001b[0mtensorflow\u001b[0m\u001b[0;34m.\u001b[0m\u001b[0mkeras\u001b[0m\u001b[0;34m.\u001b[0m\u001b[0mpreprocessing\u001b[0m\u001b[0;34m.\u001b[0m\u001b[0mtext\u001b[0m \u001b[0;32mimport\u001b[0m \u001b[0mTokenizer\u001b[0m\u001b[0;34m\u001b[0m\u001b[0;34m\u001b[0m\u001b[0m\n\u001b[1;32m      4\u001b[0m \u001b[0;32mfrom\u001b[0m \u001b[0mtensorflow\u001b[0m\u001b[0;34m.\u001b[0m\u001b[0mkeras\u001b[0m\u001b[0;34m.\u001b[0m\u001b[0mpreprocessing\u001b[0m\u001b[0;34m.\u001b[0m\u001b[0msequence\u001b[0m \u001b[0;32mimport\u001b[0m \u001b[0mpad_sequences\u001b[0m\u001b[0;34m\u001b[0m\u001b[0;34m\u001b[0m\u001b[0m\n\u001b[1;32m      5\u001b[0m \u001b[0;34m\u001b[0m\u001b[0m\n",
      "\u001b[0;31mModuleNotFoundError\u001b[0m: No module named 'tensorflow'"
     ]
    }
   ],
   "source": [
    "import tensorflow as tf\n",
    "from tensorflow import keras\n",
    "from tensorflow.keras.preprocessing.text import Tokenizer\n",
    "from tensorflow.keras.preprocessing.sequence import pad_sequences\n",
    "\n",
    "# Only considering the top 10000 most common words\n",
    "vocab_size = 10000\n",
    "max_length = 2016\n",
    "# We have 8675 rows\n",
    "training_size = 8675//2\n",
    "training_posts = posts[0:training_size]\n",
    "testing_posts = posts[training_size:]\n",
    "# Right now is only predicting introversion or extroversion\n",
    "training_labels = type_labels[0:training_size]\n",
    "testing_labels = type_labels[training_size:]\n",
    "\n",
    "# We only want to fit the tokenizer on the training, not the testing\n",
    "tokenizer = Tokenizer(num_words = vocab_size, oov_token = \"<OOV>\")\n",
    "tokenizer.fit_on_texts(training_posts)\n",
    "\n",
    "word_index = tokenizer.word_index\n",
    "\n",
    "# Puts the padding (which are 0) at the end of the vectorized sentence.\n",
    "# The longest post in our dataset is 2016, but we should truncate='post' earlier than 2016 words\n",
    "training_sequences = tokenizer.texts_to_sequences(training_posts)\n",
    "training_padded = pad_sequences(training_sequences, padding = 'post', maxlen = max_length)\n",
    "# training_sequences = np.array(training_sequences)\n",
    "training_padded = np.array(training_padded)\n",
    "\n",
    "testing_sequences = tokenizer.texts_to_sequences(testing_posts)\n",
    "testing_padded = pad_sequences(testing_sequences, padding = 'post', maxlen=max_length)\n",
    "# testing_sequences = np.array(testing_sequences)\n",
    "training_padded = np.array(training_padded)\n",
    "\n",
    "\n",
    "print(word_index)\n",
    "print(training_padded[0])\n",
    "print(training_padded.shape)"
   ]
  },
  {
   "cell_type": "code",
   "execution_count": null,
   "metadata": {
    "id": "a04qLxjNN8fv"
   },
   "outputs": [],
   "source": [
    "# # Commenting out for similar reasons\n",
    "\n",
    "# #Second parameter is the output dimension. Therefore, when we are changing this to predict 4 dimensions of personality we should change it to 4\n",
    "# embedding_dim = 1\n",
    "\n",
    "# model = tf.keras.Sequential([ \n",
    "#                              tf.keras.layers.Embedding(vocab_size, embedding_dim, input_length=max_length),\n",
    "#                              tf.keras.layers.GlobalAveragePooling1D(),\n",
    "#                              tf.keras.layers.Dense(24, activation='relu'),\n",
    "#                              tf.keras.layers.Dense(1, activation='sigmoid')\n",
    "# ])\n",
    "\n",
    "# model.compile(loss = 'binary_crossentropy', optimizer = 'adam', metrics = ['accuracy'])"
   ]
  },
  {
   "cell_type": "code",
   "execution_count": null,
   "metadata": {
    "id": "AfPpLGS7MunO"
   },
   "outputs": [],
   "source": [
    "#Second parameter is the output dimension. Therefore, when we are changing this to predict 4 dimensions of personality we should change it to 4\n",
    "# ^^ actually i dont know if that is true\n",
    "embedding_dim = 256\n",
    "'''\n",
    "Embedding layer will always have vocab_size*embedding_dim parameters. Since vocab_size is 10,000 the number of parameters on this layer will always be large\n",
    "'''\n",
    "model = tf.keras.Sequential([ \n",
    "                             tf.keras.layers.Embedding(vocab_size, embedding_dim, input_length=max_length),\n",
    "                            #  tf.keras.layers.LSTM(100),\n",
    "                             tf.keras.layers.GlobalAveragePooling1D(),\n",
    "                            #tf.keras.layers.Dense(1000, activation='relu'),\n",
    "                            # tf.keras.layers.Dense(400, activation='relu'),\n",
    "                             tf.keras.layers.Dense(128, activation='relu'),\n",
    "                             tf.keras.layers.Dense(48, activation='relu'),\n",
    "                             tf.keras.layers.Dense(16, activation='softmax')\n",
    "])\n",
    "\n",
    "model.compile(loss = 'sparse_categorical_crossentropy', optimizer = 'adam', metrics = ['accuracy'])"
   ]
  },
  {
   "cell_type": "code",
   "execution_count": null,
   "metadata": {
    "colab": {
     "base_uri": "https://localhost:8080/"
    },
    "id": "V6wi-9cvRtM6",
    "outputId": "30be599c-d625-4336-af86-7462bd9b982f"
   },
   "outputs": [
    {
     "name": "stdout",
     "output_type": "stream",
     "text": [
      "Model: \"sequential\"\n",
      "_________________________________________________________________\n",
      "Layer (type)                 Output Shape              Param #   \n",
      "=================================================================\n",
      "embedding (Embedding)        (None, 2016, 256)         2560000   \n",
      "_________________________________________________________________\n",
      "global_average_pooling1d (Gl (None, 256)               0         \n",
      "_________________________________________________________________\n",
      "dense (Dense)                (None, 128)               32896     \n",
      "_________________________________________________________________\n",
      "dense_1 (Dense)              (None, 48)                6192      \n",
      "_________________________________________________________________\n",
      "dense_2 (Dense)              (None, 16)                784       \n",
      "=================================================================\n",
      "Total params: 2,599,872\n",
      "Trainable params: 2,599,872\n",
      "Non-trainable params: 0\n",
      "_________________________________________________________________\n"
     ]
    }
   ],
   "source": [
    "model.summary()"
   ]
  },
  {
   "cell_type": "code",
   "execution_count": null,
   "metadata": {
    "colab": {
     "base_uri": "https://localhost:8080/"
    },
    "id": "5ReGWYoyXKTQ",
    "outputId": "bbb1564b-c082-49a2-a534-9fc48f10cc91"
   },
   "outputs": [
    {
     "name": "stdout",
     "output_type": "stream",
     "text": [
      "Epoch 1/10\n",
      "136/136 [==============================] - 17s 120ms/step - loss: 2.5020 - accuracy: 0.2012 - val_loss: 2.2698 - val_accuracy: 0.2125\n",
      "Epoch 2/10\n",
      "136/136 [==============================] - 16s 117ms/step - loss: 2.2695 - accuracy: 0.2038 - val_loss: 2.2397 - val_accuracy: 0.2123\n",
      "Epoch 3/10\n",
      "136/136 [==============================] - 16s 117ms/step - loss: 2.2321 - accuracy: 0.2206 - val_loss: 2.1352 - val_accuracy: 0.2596\n",
      "Epoch 4/10\n",
      "136/136 [==============================] - 16s 117ms/step - loss: 2.0500 - accuracy: 0.2948 - val_loss: 1.9551 - val_accuracy: 0.2918\n",
      "Epoch 5/10\n",
      "136/136 [==============================] - 16s 118ms/step - loss: 1.7851 - accuracy: 0.3356 - val_loss: 1.8078 - val_accuracy: 0.3640\n",
      "Epoch 6/10\n",
      "136/136 [==============================] - 16s 118ms/step - loss: 1.5258 - accuracy: 0.4423 - val_loss: 1.7794 - val_accuracy: 0.3847\n",
      "Epoch 7/10\n",
      "136/136 [==============================] - 16s 118ms/step - loss: 1.3558 - accuracy: 0.5006 - val_loss: 1.7867 - val_accuracy: 0.3928\n",
      "Epoch 8/10\n",
      "136/136 [==============================] - 16s 116ms/step - loss: 1.2027 - accuracy: 0.5812 - val_loss: 1.8272 - val_accuracy: 0.4083\n",
      "Epoch 9/10\n",
      "136/136 [==============================] - 16s 117ms/step - loss: 1.0467 - accuracy: 0.6461 - val_loss: 1.9703 - val_accuracy: 0.4260\n",
      "Epoch 10/10\n",
      "136/136 [==============================] - 16s 118ms/step - loss: 0.9446 - accuracy: 0.6843 - val_loss: 2.0819 - val_accuracy: 0.4053\n"
     ]
    }
   ],
   "source": [
    "num_epochs = 10\n",
    "\n",
    "history = model.fit(training_padded, training_labels, epochs = num_epochs, validation_data=(testing_padded, testing_labels), verbose = 1)"
   ]
  },
  {
   "cell_type": "code",
   "execution_count": null,
   "metadata": {
    "id": "DpMLBWYmzYM5"
   },
   "outputs": [],
   "source": []
  }
 ],
 "metadata": {
  "colab": {
   "collapsed_sections": [],
   "name": "mbti_classifier_RNN.ipynb",
   "provenance": []
  },
  "kernelspec": {
   "display_name": "Python 3",
   "language": "python",
   "name": "python3"
  },
  "language_info": {
   "codemirror_mode": {
    "name": "ipython",
    "version": 3
   },
   "file_extension": ".py",
   "mimetype": "text/x-python",
   "name": "python",
   "nbconvert_exporter": "python",
   "pygments_lexer": "ipython3",
   "version": "3.6.9"
  }
 },
 "nbformat": 4,
 "nbformat_minor": 1
}
