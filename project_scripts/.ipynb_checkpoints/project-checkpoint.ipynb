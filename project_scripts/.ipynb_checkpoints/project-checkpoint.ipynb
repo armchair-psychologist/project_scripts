{
 "cells": [
  {
   "cell_type": "code",
   "execution_count": null,
   "metadata": {
    "colab": {
     "base_uri": "https://localhost:8080/"
    },
    "id": "1qpRpF0LCkoe",
    "outputId": "dd5cd933-5086-4464-f144-a91896578028"
   },
   "outputs": [
    {
     "name": "stdout",
     "output_type": "stream",
     "text": [
      "Mounted at /content/drive\n",
      "MyDrive  Shareddrives\n"
     ]
    }
   ],
   "source": [
    "from google.colab import drive\n",
    "drive.mount('/content/drive')\n",
    "\n",
    "!ls '/content/drive'"
   ]
  },
  {
   "cell_type": "code",
   "execution_count": null,
   "metadata": {
    "id": "xLVKJhE0wkqD"
   },
   "outputs": [],
   "source": [
    "import numpy as np\n",
    "from sklearn.feature_extraction.text import CountVectorizer\n",
    "import time\n",
    "import matplotlib.pyplot as plt\n",
    "from sklearn.metrics import confusion_matrix\n",
    "import os\n",
    "\n",
    "'''\n",
    "I used a slightly modified version of NaiveBayes classifier from AS1 here\n",
    "\n",
    "'''\n",
    "\n",
    "class MyBayesClassifier():\n",
    "    def __init__(self, smooth=1):\n",
    "        self._smooth = smooth # This is for additive smoothing\n",
    "        \n",
    "\n",
    "    def train(self, X, y):\n",
    "        alpha_smooth = self._smooth\n",
    "        cls = np.unique(y)\n",
    "        Ncls, Nfeat = len(cls), X.shape[1] #Ncls: number of classes, Nfeat: number of features.\n",
    "\n",
    "        self._cls = cls\n",
    "        self._prior = np.zeros((1,Ncls))\n",
    "        #initialize a matrix stand for all p(x|y),the likelyhood for every attribute\n",
    "        self._likehood = np.zeros((Ncls,Nfeat))\n",
    "        #for each class,find rows that satisfies the condition,and compute the likehood of each feature\n",
    "        for i in range(Ncls):\n",
    "            cla = cls[i]\n",
    "            x_cla = X[y==cla]                                              #the rows that belong to current class\n",
    "            self._prior[0,i] =(x_cla.shape[0]+alpha_smooth)/(X.shape[0]+alpha_smooth*Ncls)                    #compute prior probability of current class\n",
    "            #self._likehood[i] = np.sum(x_cla,axis=0)/x_cla.shape[0]       #verticlly summation along each column to get frequency of each feature and then divide by # of rows\n",
    "\n",
    "            self._likehood[i,:] = (np.sum(x_cla, axis=0)+alpha_smooth) / (x_cla.shape[0]+ alpha_smooth * 2)                  #apply smooth to frequency divide # of rows\n",
    "            #print(self._likehood)\n",
    "            #print(self._prior)\n",
    "\n",
    "    def train_JM_smooth(self, X, y,X_dataset):\n",
    "        alpha_smooth = self._smooth\n",
    "        cls = np.unique(y)\n",
    "        Ncls, Nfeat = len(cls), X.shape[1] #Ncls: number of classes, Nfeat: number of features.\n",
    "\n",
    "        size_dataset = X_dataset.shape[0]             #number of data in dataset\n",
    "        feature_dataset = np.sum(X_dataset,axis=0)    #count the appearnce of each word in dataset by verticlly sum along each column from the dataset\n",
    "\n",
    "\n",
    "        self._cls = cls\n",
    "        self._prior = np.zeros((1,Ncls))\n",
    "        #initialize a matrix stand for all p(x|y),the likelyhood for every attribute\n",
    "        self._likehood = np.zeros((Ncls,Nfeat))\n",
    "        #for each class,find rows that satisfies the condition,and compute the likehood of each feature\n",
    "        for i in range(Ncls):\n",
    "            cla = cls[i]\n",
    "            x_cla = X[y==cla]                                              #the rows that belong to current class\n",
    "            self._prior[0,i] =x_cla.shape[0]/X.shape[0]                    #compute prior probability of current class\n",
    "            #self._likehood[i] = np.sum(x_cla,axis=0)/x_cla.shape[0]       #verticlly summation along each column to get frequency of each feature and then divide by # of rows\n",
    "            numerator1 = np.sum(x_cla, axis=0)\n",
    "            denominator1 = np.sum(x_cla)\n",
    "\n",
    "            self._likehood[i,:] = (1- alpha_smooth)*numerator1/denominator1 + alpha_smooth * feature_dataset / size_dataset                  #apply JM smooth to frequency divide # of rows\n",
    "\n",
    "        #after the for loop,self._prior stores the prior probability of all catergories and\n",
    "        #selef._likehood stores the probabality of all feature  such that  P(feature_i | catergory)\n",
    "            ###confusion  : smoothing????????\n",
    "        #self._notlikehood = 1-self._likehood              #P(not feature i | catergory )\n",
    "    def predict(self, X):\n",
    "\n",
    "        Ncls,Ntest,Nfeat = len(self._cls),X.shape[0],X.shape[1]                         #number of test sample\n",
    "        pred = np.zeros(Ntest)\n",
    "        loglikehood = np.log(self._likehood)       \n",
    "        X_not = 1-X                   #since in original data,1 for appearence of feature i and 0 for not appear,the logic not means 1 for not appear and 0 for appear\n",
    "\n",
    "        #X is size Ntest x Nfeat,selef._likehood.T is the shape Nfeat x Ncls\n",
    "        log_appear = X.dot(np.log(self._likehood.T))\n",
    "        \n",
    "        #print(\"appear\",log_appear)\n",
    "        \n",
    "        log_absence = X_not.dot (np.log(1-self._likehood.T))\n",
    "        #print(\"absence\",log_absence)\n",
    "\n",
    "        log_post = log_appear+log_absence\n",
    "        #log_post = X.dot(np.log(self._likehood.T)) + X_not.dot (np.log(1-self._likehood.T))    #consider both appearence and absence\n",
    "        #log_post = X.dot(np.log(self._likehood.T))                                             #only consider appearence\n",
    "\n",
    "        log_post = log_post + np.log(self._prior.reshape(1,Ncls))\n",
    "        #print(log_post)\n",
    "        pred = self._cls[np.argmax(log_post,axis=1)]\n",
    "\n",
    "        return pred\n",
    "\n",
    "\n"
   ]
  },
  {
   "cell_type": "code",
   "execution_count": null,
   "metadata": {
    "colab": {
     "base_uri": "https://localhost:8080/",
     "height": 340
    },
    "id": "cNYw8tgqRcQY",
    "outputId": "170a51be-2a00-40f8-e89e-1ad2380a46aa"
   },
   "outputs": [
    {
     "data": {
      "text/html": [
       "<div>\n",
       "<style scoped>\n",
       "    .dataframe tbody tr th:only-of-type {\n",
       "        vertical-align: middle;\n",
       "    }\n",
       "\n",
       "    .dataframe tbody tr th {\n",
       "        vertical-align: top;\n",
       "    }\n",
       "\n",
       "    .dataframe thead th {\n",
       "        text-align: right;\n",
       "    }\n",
       "</style>\n",
       "<table border=\"1\" class=\"dataframe\">\n",
       "  <thead>\n",
       "    <tr style=\"text-align: right;\">\n",
       "      <th></th>\n",
       "      <th>type</th>\n",
       "      <th>posts</th>\n",
       "    </tr>\n",
       "  </thead>\n",
       "  <tbody>\n",
       "    <tr>\n",
       "      <th>0</th>\n",
       "      <td>INFJ</td>\n",
       "      <td>'http://www.youtube.com/watch?v=qsXHcwe3krw|||...</td>\n",
       "    </tr>\n",
       "    <tr>\n",
       "      <th>1</th>\n",
       "      <td>ENTP</td>\n",
       "      <td>'I'm finding the lack of me in these posts ver...</td>\n",
       "    </tr>\n",
       "    <tr>\n",
       "      <th>2</th>\n",
       "      <td>INTP</td>\n",
       "      <td>'Good one  _____   https://www.youtube.com/wat...</td>\n",
       "    </tr>\n",
       "    <tr>\n",
       "      <th>3</th>\n",
       "      <td>INTJ</td>\n",
       "      <td>'Dear INTP,   I enjoyed our conversation the o...</td>\n",
       "    </tr>\n",
       "    <tr>\n",
       "      <th>4</th>\n",
       "      <td>ENTJ</td>\n",
       "      <td>'You're fired.|||That's another silly misconce...</td>\n",
       "    </tr>\n",
       "    <tr>\n",
       "      <th>5</th>\n",
       "      <td>INTJ</td>\n",
       "      <td>'18/37 @.@|||Science  is not perfect. No scien...</td>\n",
       "    </tr>\n",
       "    <tr>\n",
       "      <th>6</th>\n",
       "      <td>INFJ</td>\n",
       "      <td>'No, I can't draw on my own nails (haha). Thos...</td>\n",
       "    </tr>\n",
       "    <tr>\n",
       "      <th>7</th>\n",
       "      <td>INTJ</td>\n",
       "      <td>'I tend to build up a collection of things on ...</td>\n",
       "    </tr>\n",
       "    <tr>\n",
       "      <th>8</th>\n",
       "      <td>INFJ</td>\n",
       "      <td>I'm not sure, that's a good question. The dist...</td>\n",
       "    </tr>\n",
       "    <tr>\n",
       "      <th>9</th>\n",
       "      <td>INTP</td>\n",
       "      <td>'https://www.youtube.com/watch?v=w8-egj0y8Qs||...</td>\n",
       "    </tr>\n",
       "  </tbody>\n",
       "</table>\n",
       "</div>"
      ],
      "text/plain": [
       "   type                                              posts\n",
       "0  INFJ  'http://www.youtube.com/watch?v=qsXHcwe3krw|||...\n",
       "1  ENTP  'I'm finding the lack of me in these posts ver...\n",
       "2  INTP  'Good one  _____   https://www.youtube.com/wat...\n",
       "3  INTJ  'Dear INTP,   I enjoyed our conversation the o...\n",
       "4  ENTJ  'You're fired.|||That's another silly misconce...\n",
       "5  INTJ  '18/37 @.@|||Science  is not perfect. No scien...\n",
       "6  INFJ  'No, I can't draw on my own nails (haha). Thos...\n",
       "7  INTJ  'I tend to build up a collection of things on ...\n",
       "8  INFJ  I'm not sure, that's a good question. The dist...\n",
       "9  INTP  'https://www.youtube.com/watch?v=w8-egj0y8Qs||..."
      ]
     },
     "execution_count": 4,
     "metadata": {
      "tags": []
     },
     "output_type": "execute_result"
    }
   ],
   "source": [
    "import numpy as np\n",
    "import pandas as pd\n",
    "import plotly.express as px\n",
    "from sklearn.feature_extraction.text import CountVectorizer\n",
    "import matplotlib.pyplot as plt\n",
    "import plotly\n",
    "import seaborn as sns\n",
    "\n",
    "\n",
    "\n",
    "'''\n",
    "use this part if you have upload the data to github\n",
    "'''\n",
    "#url = 'http:~~~~~~~~~~~~~~~~~~~~~/mbti_1.csv'\n",
    "#df = pd.read_csv(url,)\n",
    "\n",
    "df = pd.read_csv('/content/drive/MyDrive/CMPUT466/groupProj/mbti_1.csv',header=0)\n",
    "df.head(10)\n",
    "\n",
    "#df = pd.read_csv('/content/drive/MyDrive/CMPUT466/groupProj/mbti_full_pull.csv')\n",
    "#df.head()\n"
   ]
  },
  {
   "cell_type": "code",
   "execution_count": null,
   "metadata": {
    "colab": {
     "base_uri": "https://localhost:8080/",
     "height": 654
    },
    "id": "AJInfbSq7eQa",
    "outputId": "57d16c59-7e7d-421d-8b6e-c951c512f584"
   },
   "outputs": [
    {
     "data": {
      "text/plain": [
       "<seaborn.axisgrid.FacetGrid at 0x7fc4134a5d50>"
      ]
     },
     "execution_count": 5,
     "metadata": {
      "tags": []
     },
     "output_type": "execute_result"
    },
    {
     "data": {
      "text/plain": [
       "<Figure size 3600x1440 with 0 Axes>"
      ]
     },
     "metadata": {
      "tags": []
     },
     "output_type": "display_data"
    },
    {
     "data": {
      "image/png": "[encoded data removed]",
      "text/plain": [
       "<Figure size 842.4x595.44 with 1 Axes>"
      ]
     },
     "metadata": {
      "needs_background": "light",
      "tags": []
     },
     "output_type": "display_data"
    }
   ],
   "source": [
    "fig = plt.gcf()\n",
    "fig.set_size_inches(50, 20)\n",
    "sns.catplot(x=\"type\", kind=\"count\", data=df,height=8.27, aspect=11.7/8.27)\n"
   ]
  },
  {
   "cell_type": "code",
   "execution_count": null,
   "metadata": {
    "colab": {
     "base_uri": "https://localhost:8080/",
     "height": 194
    },
    "id": "V_vjsflQ8jYe",
    "outputId": "f8fc4ba6-d133-43cc-8cdd-b7d82050d1af"
   },
   "outputs": [
    {
     "data": {
      "text/html": [
       "<div>\n",
       "<style scoped>\n",
       "    .dataframe tbody tr th:only-of-type {\n",
       "        vertical-align: middle;\n",
       "    }\n",
       "\n",
       "    .dataframe tbody tr th {\n",
       "        vertical-align: top;\n",
       "    }\n",
       "\n",
       "    .dataframe thead th {\n",
       "        text-align: right;\n",
       "    }\n",
       "</style>\n",
       "<table border=\"1\" class=\"dataframe\">\n",
       "  <thead>\n",
       "    <tr style=\"text-align: right;\">\n",
       "      <th></th>\n",
       "      <th>type</th>\n",
       "      <th>posts</th>\n",
       "      <th>Personality-1</th>\n",
       "      <th>Personality-2</th>\n",
       "      <th>Personality-3</th>\n",
       "      <th>Personality-4</th>\n",
       "    </tr>\n",
       "  </thead>\n",
       "  <tbody>\n",
       "    <tr>\n",
       "      <th>0</th>\n",
       "      <td>INFJ</td>\n",
       "      <td>'http://www.youtube.com/watch?v=qsXHcwe3krw|||...</td>\n",
       "      <td>I</td>\n",
       "      <td>N</td>\n",
       "      <td>F</td>\n",
       "      <td>J</td>\n",
       "    </tr>\n",
       "    <tr>\n",
       "      <th>1</th>\n",
       "      <td>ENTP</td>\n",
       "      <td>'I'm finding the lack of me in these posts ver...</td>\n",
       "      <td>E</td>\n",
       "      <td>N</td>\n",
       "      <td>T</td>\n",
       "      <td>P</td>\n",
       "    </tr>\n",
       "    <tr>\n",
       "      <th>2</th>\n",
       "      <td>INTP</td>\n",
       "      <td>'Good one  _____   https://www.youtube.com/wat...</td>\n",
       "      <td>I</td>\n",
       "      <td>N</td>\n",
       "      <td>T</td>\n",
       "      <td>P</td>\n",
       "    </tr>\n",
       "    <tr>\n",
       "      <th>3</th>\n",
       "      <td>INTJ</td>\n",
       "      <td>'Dear INTP,   I enjoyed our conversation the o...</td>\n",
       "      <td>I</td>\n",
       "      <td>N</td>\n",
       "      <td>T</td>\n",
       "      <td>J</td>\n",
       "    </tr>\n",
       "    <tr>\n",
       "      <th>4</th>\n",
       "      <td>ENTJ</td>\n",
       "      <td>'You're fired.|||That's another silly misconce...</td>\n",
       "      <td>E</td>\n",
       "      <td>N</td>\n",
       "      <td>T</td>\n",
       "      <td>J</td>\n",
       "    </tr>\n",
       "  </tbody>\n",
       "</table>\n",
       "</div>"
      ],
      "text/plain": [
       "   type  ... Personality-4\n",
       "0  INFJ  ...             J\n",
       "1  ENTP  ...             P\n",
       "2  INTP  ...             P\n",
       "3  INTJ  ...             J\n",
       "4  ENTJ  ...             J\n",
       "\n",
       "[5 rows x 6 columns]"
      ]
     },
     "execution_count": 6,
     "metadata": {
      "tags": []
     },
     "output_type": "execute_result"
    }
   ],
   "source": [
    "#\n",
    "# Just striping the string incase of any whitespace before or after the string\n",
    "df[\"type\"] = df[\"type\"].str.strip()\n",
    "# Seperate the the label into four different parts\n",
    "target_multi_label = df[\"type\"].str.split(\"\" , expand=True)\n",
    "target_multi_label = target_multi_label.iloc[: , 1:-1]\n",
    "target_multi_label.columns = [\"Personality-1\",\"Personality-2\",\"Personality-3\",\"Personality-4\"]\n",
    "\n",
    "df = pd.concat([df,target_multi_label] , axis=1)\n",
    "'''\n",
    "personality_map = {\n",
    "    \"I\":\"Introvert\",\n",
    "    \"E\":\"Extrovert\",\n",
    "    \"N\":\"Intuitive\",\n",
    "    \"S\":\"Sensitive\",\n",
    "    \"F\":\"Emotional\",\n",
    "    \"T\":\"Thinker\",\n",
    "    \"J\":\"Judgemental\",\n",
    "    \"P\":\"Perceiving\"\n",
    "}\n",
    "for col in df.loc[: , \"Personality-1\":\"Personality-4\"].columns:\n",
    "    df[col] = df[col].map(personality_map)\n",
    "'''\n",
    "df.head()\n",
    "\n"
   ]
  },
  {
   "cell_type": "code",
   "execution_count": null,
   "metadata": {
    "colab": {
     "base_uri": "https://localhost:8080/",
     "height": 1000
    },
    "id": "e6ASa_O4NFiF",
    "outputId": "72bb5ca2-cdbf-4371-b64d-9db42fd58297"
   },
   "outputs": [
    {
     "data": {
      "text/plain": [
       "<seaborn.axisgrid.FacetGrid at 0x7fc40ab12b90>"
      ]
     },
     "execution_count": 7,
     "metadata": {
      "tags": []
     },
     "output_type": "execute_result"
    },
    {
     "data": {
      "text/plain": [
       "<Figure size 3600x1440 with 0 Axes>"
      ]
     },
     "metadata": {
      "tags": []
     },
     "output_type": "display_data"
    },
    {
     "data": {
      "image/png": "[encoded data removed]",
      "text/plain": [
       "<Figure size 288x360 with 1 Axes>"
      ]
     },
     "metadata": {
      "needs_background": "light",
      "tags": []
     },
     "output_type": "display_data"
    },
    {
     "data": {
      "image/png": "[encoded data removed]",
      "text/plain": [
       "<Figure size 288x360 with 1 Axes>"
      ]
     },
     "metadata": {
      "needs_background": "light",
      "tags": []
     },
     "output_type": "display_data"
    },
    {
     "data": {
      "image/png": "[encoded data removed]",
      "text/plain": [
       "<Figure size 288x360 with 1 Axes>"
      ]
     },
     "metadata": {
      "needs_background": "light",
      "tags": []
     },
     "output_type": "display_data"
    },
    {
     "data": {
      "image/png": "[encoded data removed]",
      "text/plain": [
       "<Figure size 288x360 with 1 Axes>"
      ]
     },
     "metadata": {
      "needs_background": "light",
      "tags": []
     },
     "output_type": "display_data"
    }
   ],
   "source": [
    "fig = plt.gcf()\n",
    "fig.set_size_inches(50, 20)\n",
    "sns.catplot(x=\"Personality-1\", kind=\"count\", data=df,height=5, aspect=4/5)\n",
    "sns.catplot(x=\"Personality-2\", kind=\"count\", data=df,height=5, aspect=4/5)\n",
    "sns.catplot(x=\"Personality-3\", kind=\"count\", data=df,height=5, aspect=4/5)\n",
    "sns.catplot(x=\"Personality-4\", kind=\"count\", data=df,height=5, aspect=4/5)\n"
   ]
  },
  {
   "cell_type": "code",
   "execution_count": null,
   "metadata": {
    "colab": {
     "base_uri": "https://localhost:8080/"
    },
    "id": "Ev0N5j5mQvrW",
    "outputId": "326652de-9507-4d93-ac29-5749a098c058"
   },
   "outputs": [
    {
     "name": "stdout",
     "output_type": "stream",
     "text": [
      "Requirement already satisfied: Unidecode in /usr/local/lib/python3.7/dist-packages (1.2.0)\n",
      "Requirement already satisfied: contractions in /usr/local/lib/python3.7/dist-packages (0.0.48)\n",
      "Requirement already satisfied: textsearch>=0.0.21 in /usr/local/lib/python3.7/dist-packages (from contractions) (0.0.21)\n",
      "Requirement already satisfied: pyahocorasick in /usr/local/lib/python3.7/dist-packages (from textsearch>=0.0.21->contractions) (1.4.1)\n",
      "Requirement already satisfied: anyascii in /usr/local/lib/python3.7/dist-packages (from textsearch>=0.0.21->contractions) (0.1.7)\n",
      "[nltk_data] Downloading package wordnet to /root/nltk_data...\n",
      "[nltk_data]   Package wordnet is already up-to-date!\n"
     ]
    }
   ],
   "source": [
    "#version1 of text pre-processing\n",
    "\n",
    "#source:https://towardsdatascience.com/nlp-text-preprocessing-a-practical-guide-and-template-d80874676e79\n",
    "!pip install Unidecode\n",
    "!pip install contractions\n",
    "import nltk\n",
    "nltk.download('wordnet')\n",
    "\n",
    "from bs4 import BeautifulSoup\n",
    "import spacy\n",
    "import unidecode \n",
    "#from word2number import w2n\n",
    "import contractions\n",
    "from nltk.stem import WordNetLemmatizer \n",
    "import re\n",
    "\n",
    "def preprocessing_v1(text):\n",
    "    #remove html information\n",
    "    soup = BeautifulSoup(text, \"html.parser\")\n",
    "    processed = soup.get_text(separator=\" \")\n",
    "    \n",
    "    #remove http// \n",
    "    processed = re.sub(r\"http\\S+\", \"\", processed)\n",
    "\n",
    "    #remove ||| seperate\n",
    "    processed = re.sub(r'\\|\\|\\|', r' ', processed)\n",
    "\n",
    "    #lower case\n",
    "    processed = processed.lower()\n",
    "\n",
    "    #expand shortened words, e.g. don't to do not\n",
    "    processed = contractions.fix(processed)\n",
    "\n",
    "    #remove accented char\n",
    "    processed = unidecode.unidecode(processed)\n",
    "\n",
    "    #remove white space\n",
    "    #processed = processed.strip()\n",
    "    #processed = \" \".join(processed.split())\n",
    "\n",
    "    # Lemmatizing \n",
    "    lemmatizer = WordNetLemmatizer() \n",
    "    processed=lemmatizer.lemmatize(processed)\n",
    "\n",
    "\n",
    "    return processed"
   ]
  },
  {
   "cell_type": "code",
   "execution_count": null,
   "metadata": {
    "colab": {
     "base_uri": "https://localhost:8080/",
     "height": 194
    },
    "id": "WJDdX4cCVg3D",
    "outputId": "4c904c53-742d-4452-e546-6d8a20a554a9"
   },
   "outputs": [
    {
     "data": {
      "text/html": [
       "<div>\n",
       "<style scoped>\n",
       "    .dataframe tbody tr th:only-of-type {\n",
       "        vertical-align: middle;\n",
       "    }\n",
       "\n",
       "    .dataframe tbody tr th {\n",
       "        vertical-align: top;\n",
       "    }\n",
       "\n",
       "    .dataframe thead th {\n",
       "        text-align: right;\n",
       "    }\n",
       "</style>\n",
       "<table border=\"1\" class=\"dataframe\">\n",
       "  <thead>\n",
       "    <tr style=\"text-align: right;\">\n",
       "      <th></th>\n",
       "      <th>type</th>\n",
       "      <th>posts</th>\n",
       "      <th>Personality-1</th>\n",
       "      <th>Personality-2</th>\n",
       "      <th>Personality-3</th>\n",
       "      <th>Personality-4</th>\n",
       "    </tr>\n",
       "  </thead>\n",
       "  <tbody>\n",
       "    <tr>\n",
       "      <th>0</th>\n",
       "      <td>INFJ</td>\n",
       "      <td>' and intj moments    sportscenter not top ten...</td>\n",
       "      <td>I</td>\n",
       "      <td>N</td>\n",
       "      <td>F</td>\n",
       "      <td>J</td>\n",
       "    </tr>\n",
       "    <tr>\n",
       "      <th>1</th>\n",
       "      <td>ENTP</td>\n",
       "      <td>'I am finding the lack of me in these posts ve...</td>\n",
       "      <td>E</td>\n",
       "      <td>N</td>\n",
       "      <td>T</td>\n",
       "      <td>P</td>\n",
       "    </tr>\n",
       "    <tr>\n",
       "      <th>2</th>\n",
       "      <td>INTP</td>\n",
       "      <td>'good one  _____    course, to which i say i k...</td>\n",
       "      <td>I</td>\n",
       "      <td>N</td>\n",
       "      <td>T</td>\n",
       "      <td>P</td>\n",
       "    </tr>\n",
       "    <tr>\n",
       "      <th>3</th>\n",
       "      <td>INTJ</td>\n",
       "      <td>'dear intp,   i enjoyed our conversation the o...</td>\n",
       "      <td>I</td>\n",
       "      <td>N</td>\n",
       "      <td>T</td>\n",
       "      <td>J</td>\n",
       "    </tr>\n",
       "    <tr>\n",
       "      <th>4</th>\n",
       "      <td>ENTJ</td>\n",
       "      <td>'you are fired. that is another silly misconce...</td>\n",
       "      <td>E</td>\n",
       "      <td>N</td>\n",
       "      <td>T</td>\n",
       "      <td>J</td>\n",
       "    </tr>\n",
       "  </tbody>\n",
       "</table>\n",
       "</div>"
      ],
      "text/plain": [
       "   type  ... Personality-4\n",
       "0  INFJ  ...             J\n",
       "1  ENTP  ...             P\n",
       "2  INTP  ...             P\n",
       "3  INTJ  ...             J\n",
       "4  ENTJ  ...             J\n",
       "\n",
       "[5 rows x 6 columns]"
      ]
     },
     "execution_count": 9,
     "metadata": {
      "tags": []
     },
     "output_type": "execute_result"
    }
   ],
   "source": [
    "df['posts'] = df['posts'].apply(preprocessing_v1)\n",
    "df.head()"
   ]
  },
  {
   "cell_type": "code",
   "execution_count": null,
   "metadata": {
    "colab": {
     "base_uri": "https://localhost:8080/"
    },
    "id": "f3jU2yKRTjQ3",
    "outputId": "2c113e5c-e54f-42cf-a949-2fbd74cd7766"
   },
   "outputs": [
    {
     "name": "stdout",
     "output_type": "stream",
     "text": [
      "X_train.shape = (6000, 2000)\n",
      "X_test.shape = (2675, 2000)\n"
     ]
    }
   ],
   "source": [
    "#split traning and test data and vectorize them\n",
    "\n",
    "\n",
    "\n",
    "number_training = 6000\n",
    "data_size = df['type'].shape[0]\n",
    "\n",
    "\n",
    "\n",
    "all_data = df['posts'].astype('U').values\n",
    "data_train = df['posts'][:number_training].astype('U').values\n",
    "data_test = df['posts'][number_training:].astype('U').values\n",
    "\n",
    "y_train = df['type'][:number_training].astype('U').values\n",
    "y_test = df['type'][number_training:].astype('U').values\n",
    "\n",
    "\n",
    "#Note here, increase max_features may result in increasing ram usage and cause crush of colab\n",
    "#By defaut,it will geneate over 140000 features without any text preprocessing,it would decrease to near 100000 but still not acceptable\n",
    "#therefore I added a upper bound for max_features\n",
    "vectorizer = CountVectorizer(\n",
    "        lowercase=True, stop_words='english',\n",
    "        max_df=1.0, min_df=1, max_features=2000,  binary=True\n",
    "      )\n",
    "processed_data = vectorizer.fit_transform(all_data).toarray()\n",
    "\n",
    "X_train = processed_data[0:number_training, :]\n",
    "X_test = processed_data[number_training:, :]\n",
    "\n",
    "print(\"X_train.shape = {}\".format(X_train.shape))\n",
    "print(\"X_test.shape = {}\".format(X_test.shape))\n"
   ]
  },
  {
   "cell_type": "code",
   "execution_count": null,
   "metadata": {
    "colab": {
     "base_uri": "https://localhost:8080/"
    },
    "id": "8Wpj-IXyTPEA",
    "outputId": "7e587905-b92a-4ac7-c9f0-8c7c3dabf411"
   },
   "outputs": [
    {
     "name": "stdout",
     "output_type": "stream",
     "text": [
      "[[0 0 0 ... 0 0 0]\n",
      " [1 0 1 ... 0 0 0]\n",
      " [1 0 0 ... 0 1 0]\n",
      " ...\n",
      " [1 0 0 ... 0 0 0]\n",
      " [0 0 0 ... 0 0 0]\n",
      " [0 0 0 ... 0 0 1]]\n",
      "150\n"
     ]
    }
   ],
   "source": [
    "####   tempoary test cell , only used to debug some non-sense\n",
    "print(X_train)\n",
    "print(sum(X_train[0]))"
   ]
  },
  {
   "cell_type": "code",
   "execution_count": null,
   "metadata": {
    "colab": {
     "base_uri": "https://localhost:8080/"
    },
    "id": "JN2N_Y52TjKR",
    "outputId": "5acb5083-a8f3-4c17-95b1-198bb5619f55"
   },
   "outputs": [
    {
     "name": "stdout",
     "output_type": "stream",
     "text": [
      "Absolute accuracy = 0.44897196261682243\n"
     ]
    }
   ],
   "source": [
    "#perform naive bayes,predict 1 among 16 personality types at once\n",
    "clf = MyBayesClassifier(1.0)\n",
    "clf.train(X_train, y_train);\n",
    "y_pred = clf.predict(X_test)\n",
    "print(\"Absolute accuracy = {}\".format(np.mean(y_test==y_pred)))\n",
    "\n"
   ]
  },
  {
   "cell_type": "code",
   "execution_count": null,
   "metadata": {
    "colab": {
     "base_uri": "https://localhost:8080/"
    },
    "id": "kADBDQ8gTjCM",
    "outputId": "8dab64a9-14cb-4c3e-b4d0-a3fbdbca3114"
   },
   "outputs": [
    {
     "name": "stdout",
     "output_type": "stream",
     "text": [
      "(2675,)\n",
      "<class 'numpy.ndarray'>\n",
      "['INFP' 'ENFJ' 'INTP' ... 'INTP' 'INFJ' 'INFP']\n",
      "['INFP' 'INFJ' 'INTP' ... 'INTP' 'INFP' 'INFP']\n",
      "Absolute accuracy = 0.3390654205607477\n"
     ]
    }
   ],
   "source": [
    "#for each sub-personality type,train the model and make prediction\n",
    "#first test I/E,then N/S.......Cancadinate the result together to form final result\n",
    "y_pred = a2 = np.array(['' for i in range(data_size-number_training)])\n",
    "print(y_pred.shape)\n",
    "print(type(y_pred))\n",
    "clf = MyBayesClassifier(1.0)\n",
    "\n",
    "for col in df.loc[: , \"Personality-1\":\"Personality-4\"].columns:\n",
    "    y_train_sub = df[col][:6000].astype('U').values\n",
    "    clf.train(X_train, y_train_sub);\n",
    "    y_pred_sub = clf.predict(X_test)\n",
    "\n",
    "    y_pred=np.core.defchararray.add(y_pred, y_pred_sub)\n",
    "\n",
    "print(y_pred)\n",
    "print(y_test)\n",
    "print(\"Absolute accuracy = {}\".format(np.mean(y_test==y_pred)))\n"
   ]
  },
  {
   "cell_type": "code",
   "execution_count": null,
   "metadata": {
    "id": "Ld-GYJaq_TXf"
   },
   "outputs": [],
   "source": [
    "'''\n",
    "Need to seperate out the smoothing with the training in order to implement cross validation\n",
    "'''\n",
    "class MyBayesClassifier():\n",
    "    def __init__(self, smooth=1):\n",
    "        self._smooth = smooth # This is for additive smoothing\n",
    "        self._p_y = None #p(y=True)\n",
    "        self._features_num =  None  #numerator for probabilities of words\n",
    "        self._prior_num = np.zeros((16,1)) #numerator for the probability of the apriori. Which is the count of the labels\n",
    "    def _count_features(self,data,label):\n",
    "        self._features_num[label] += data\n",
    "        self._prior[label] += 1\n",
    "    def train(self, X, y):\n",
    "        cls = np.unique(y)\n",
    "        Ncls, Nfeat = len(cls), X.shape[1] #Ncls: number of classes, Nfeat: number of features.\n",
    "        cls_vec = np.reshape(y,(len(y),1))\n",
    "        self._feature_num = np.zeros((16,Nfeat))\n",
    "        store_features = np.vectorize(self.count_features)\n",
    "        store_features(X,y)\n",
    "        '''\n",
    "        this is the matrix multiplication solution not sure if its faster\n",
    "        for i in range(16):\n",
    "          # this will loop over the 16 possible classes\n",
    "          x_cla = X[y==i]\n",
    "          one_vec = np.ones((1,x_cla.shape[0]))\n",
    "          self._features_num[i] = (np.matmul(one_vec,x_cla))\n",
    "          self._features_den[i] = x_cla.shape[0]\n",
    "          #self._features[i] = {\"num\":(np.matmul(one_vec,x_cla)),\"den\": x_cla.shape[0]}\n",
    "          #self._prior[i] = {\"num\":x_cla.shape[0],\"den\":X.shape[0]}\n",
    "        '''\n",
    "    def change_smooth(self,new_alpha):\n",
    "        self._smooth = new_alpha\n",
    "    def _compute_prediction(self,data_point):\n",
    "        '''\n",
    "        precondition: datapoint must be a list of integers that are either 0 or 1. And its length must be the same as the number of features.\n",
    "        postcondition: no side effects\n",
    "        this will return an array of 16 floats [0,1] each corresponding to one of the possible personality types\n",
    "        '''\n",
    "        prob_matrix = (self._features_num + self.smooth)/(self._prior_num + self.smooth*2)\n",
    "        data_point_matrix = np.array([data_point,]*prob_matrix.shape[0])\n",
    "        true_matrix = data_point_matrix * prob_matrix\n",
    "        false_matrix = ((data_point_matrix+1)%2) * (1-prob_matrix)\n",
    "        return (np.squeeze(np.matmul(np.log(true_matrix+false_matrix),np.ones((true_matrix.shape[0],1))))*np.log((self._prior+self._smooth)/(16*self._smooth+sum(self._prior))))\n",
    "    def predict(self, X):\n",
    "        get_pred = np.vectorize(self._compute_prediction)\n",
    "        result = get_pred(X)\n",
    "        pred = np.argmax(axis=1)\n",
    "        return \n",
    "#split traning and test data and vectorize them\n",
    "\n",
    "\n",
    "\n",
    "number_training = 6000\n",
    "data_size = df['type'].shape[0]\n",
    "\n",
    "\n",
    "\n",
    "all_data = df['posts'].astype('U').values\n",
    "data_train = df['posts'][:number_training].astype('U').values\n",
    "data_test = df['posts'][number_training:].astype('U').values\n",
    "\n",
    "y_train = df['type'][:number_training].astype('U').values\n",
    "y_test = df['type'][number_training:].astype('U').values\n",
    "\n",
    "\n",
    "#Note here, increase max_features may result in increasing ram usage and cause crush of colab\n",
    "#By defaut,it will geneate over 140000 features without any text preprocessing,it would decrease to near 100000 but still not acceptable\n",
    "#therefore I added a upper bound for max_features\n",
    "vectorizer = CountVectorizer(\n",
    "        lowercase=True, stop_words='english',\n",
    "        max_df=1.0, min_df=1, max_features=2000,  binary=True\n",
    "      )\n",
    "processed_data = vectorizer.fit_transform(all_data).toarray()\n",
    "\n",
    "X_train = processed_data[0:number_training, :]\n",
    "X_test = processed_data[number_training:, :]\n",
    "\n",
    "print(\"X_train.shape = {}\".format(X_train.shape))\n",
    "print(\"X_test.shape = {}\".format(X_test.shape))\n",
    "\n",
    "clf = MyBayesClassifier(1.0)\n",
    "clf.train(X_train, y_train);\n",
    "y_pred = clf.predict(X_test)\n",
    "print(\"Absolute accuracy = {}\".format(np.mean(y_test==y_pred)))"
   ]
  },
  {
   "cell_type": "markdown",
   "metadata": {
    "id": "d6V3Tt8CRJ_7"
   },
   "source": []
  }
 ],
 "metadata": {
  "colab": {
   "collapsed_sections": [],
   "name": "project.ipynb",
   "provenance": []
  },
  "kernelspec": {
   "display_name": "Python 3",
   "language": "python",
   "name": "python3"
  },
  "language_info": {
   "codemirror_mode": {
    "name": "ipython",
    "version": 3
   },
   "file_extension": ".py",
   "mimetype": "text/x-python",
   "name": "python",
   "nbconvert_exporter": "python",
   "pygments_lexer": "ipython3",
   "version": "3.6.9"
  }
 },
 "nbformat": 4,
 "nbformat_minor": 1
}
